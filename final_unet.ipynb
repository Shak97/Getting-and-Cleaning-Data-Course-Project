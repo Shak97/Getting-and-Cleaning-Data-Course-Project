{
  "nbformat": 4,
  "nbformat_minor": 0,
  "metadata": {
    "colab": {
      "name": "final_unet.ipynb",
      "provenance": [],
      "collapsed_sections": [],
      "include_colab_link": true
    },
    "kernelspec": {
      "name": "python3",
      "display_name": "Python 3"
    },
    "accelerator": "GPU"
  },
  "cells": [
    {
      "cell_type": "markdown",
      "metadata": {
        "id": "view-in-github",
        "colab_type": "text"
      },
      "source": [
        "<a href=\"https://colab.research.google.com/github/Shak97/Getting-and-Cleaning-Data-Course-Project/blob/master/final_unet.ipynb\" target=\"_parent\"><img src=\"https://colab.research.google.com/assets/colab-badge.svg\" alt=\"Open In Colab\"/></a>"
      ]
    },
    {
      "cell_type": "code",
      "metadata": {
        "id": "dZ4EI0BSngCX",
        "colab_type": "code",
        "outputId": "d1abcd34-ee39-4f52-ec6d-73f6f96c99a8",
        "colab": {
          "base_uri": "https://localhost:8080/",
          "height": 122
        }
      },
      "source": [
        "from google.colab import drive\n",
        "drive.mount('/content/drive')"
      ],
      "execution_count": 1,
      "outputs": [
        {
          "output_type": "stream",
          "text": [
            "Go to this URL in a browser: https://accounts.google.com/o/oauth2/auth?client_id=947318989803-6bn6qk8qdgf4n4g3pfee6491hc0brc4i.apps.googleusercontent.com&redirect_uri=urn%3Aietf%3Awg%3Aoauth%3A2.0%3Aoob&scope=email%20https%3A%2F%2Fwww.googleapis.com%2Fauth%2Fdocs.test%20https%3A%2F%2Fwww.googleapis.com%2Fauth%2Fdrive%20https%3A%2F%2Fwww.googleapis.com%2Fauth%2Fdrive.photos.readonly%20https%3A%2F%2Fwww.googleapis.com%2Fauth%2Fpeopleapi.readonly&response_type=code\n",
            "\n",
            "Enter your authorization code:\n",
            "··········\n",
            "Mounted at /content/drive\n"
          ],
          "name": "stdout"
        }
      ]
    },
    {
      "cell_type": "code",
      "metadata": {
        "id": "XTSlZandjhho",
        "colab_type": "code",
        "outputId": "2dfc2f1b-742b-406e-84a4-9c8f0e416236",
        "colab": {
          "base_uri": "https://localhost:8080/",
          "height": 34
        }
      },
      "source": [
        "import os\n",
        "import cv2\n",
        "from keras.preprocessing.image import load_img\n",
        "import numpy as np\n",
        "import keras"
      ],
      "execution_count": 2,
      "outputs": [
        {
          "output_type": "stream",
          "text": [
            "Using TensorFlow backend.\n"
          ],
          "name": "stderr"
        }
      ]
    },
    {
      "cell_type": "code",
      "metadata": {
        "id": "xzzIz7Ko-c5n",
        "colab_type": "code",
        "colab": {}
      },
      "source": [
        "from keras.models import *\n",
        "from keras.layers import *\n",
        "from keras.optimizers import *"
      ],
      "execution_count": 0,
      "outputs": []
    },
    {
      "cell_type": "code",
      "metadata": {
        "id": "zZnU1GC-jrlH",
        "colab_type": "code",
        "colab": {}
      },
      "source": [
        "train_dir = '/content/drive/My Drive/h_segmentation/train_image/images/'\n",
        "mask_dir = '/content/drive/My Drive/h_segmentation/train_mask/labels/'"
      ],
      "execution_count": 0,
      "outputs": []
    },
    {
      "cell_type": "code",
      "metadata": {
        "id": "ExuL_OSBjs0f",
        "colab_type": "code",
        "colab": {}
      },
      "source": [
        "fil = os.listdir(train_dir)"
      ],
      "execution_count": 0,
      "outputs": []
    },
    {
      "cell_type": "code",
      "metadata": {
        "id": "2BFKEwrnkgXo",
        "colab_type": "code",
        "colab": {}
      },
      "source": [
        "fil.sort()\n",
        "templist = []\n",
        "sublist = []\n",
        "m = 0\n",
        "start = 0\n",
        "\n",
        "for i in range(len(fil)):\n",
        "    if fil[start][3:6] == fil[i][3:6]:\n",
        "        templist.append(fil[i])\n",
        "    else:\n",
        "        sublist.append('')\n",
        "        sublist[m] = templist.copy()\n",
        "        m+=1\n",
        "        templist.clear()\n",
        "        templist.append(fil[i])\n",
        "        start = i\n",
        "sublist.append('')\n",
        "sublist[m] = templist.copy()\n",
        "\n",
        "######SORTING SECOND PART######\n",
        "for eachlist in sublist:\n",
        "    for i in range(len(eachlist)):\n",
        "        eachlist[i] = eachlist[i].split('.')[0]\n",
        "\n",
        "for ls in sublist:\n",
        "    for i in range(len(ls)):\n",
        "        min = int(ls[i][11:])\n",
        "        minindex = i\n",
        "        for j in range(i+1, len(ls)):\n",
        "            if min > int(ls[j][11:]):\n",
        "                min = int(ls[j][11:])\n",
        "                minindex = j\n",
        "        temp = ls[i]\n",
        "        ls[i] = ls[minindex]\n",
        "        ls[minindex] = temp\n",
        "\n",
        "####ADDDING EXTENSION PNG\n",
        "for x in sublist:\n",
        "    for y in range(len(x)):\n",
        "        x[y] = x[y] + '.png'"
      ],
      "execution_count": 0,
      "outputs": []
    },
    {
      "cell_type": "code",
      "metadata": {
        "id": "rOfhx7FOny4H",
        "colab_type": "code",
        "colab": {}
      },
      "source": [
        "n = [] \n",
        "  \n",
        "# function used for removing nested  \n",
        "# lists in python.  \n",
        "def reemovNestings(l): \n",
        "    for i in l: \n",
        "        if type(i) == list: \n",
        "            reemovNestings(i) \n",
        "        else: \n",
        "            n.append(i) "
      ],
      "execution_count": 0,
      "outputs": []
    },
    {
      "cell_type": "code",
      "metadata": {
        "id": "NusqVTRgoBmJ",
        "colab_type": "code",
        "colab": {}
      },
      "source": [
        "reemovNestings(sublist)"
      ],
      "execution_count": 0,
      "outputs": []
    },
    {
      "cell_type": "code",
      "metadata": {
        "id": "XT3SP0sPqt1k",
        "colab_type": "code",
        "outputId": "a805deec-ede7-4dde-cf20-68292f1dff2b",
        "colab": {
          "base_uri": "https://localhost:8080/",
          "height": 54
        }
      },
      "source": [
        "print(n)"
      ],
      "execution_count": 9,
      "outputs": [
        {
          "output_type": "stream",
          "text": [
            "['la_003image1.png', 'la_003image2.png', 'la_003image3.png', 'la_003image4.png', 'la_003image5.png', 'la_003image6.png', 'la_003image7.png', 'la_003image8.png', 'la_003image9.png', 'la_003image10.png', 'la_003image11.png', 'la_003image12.png', 'la_003image13.png', 'la_003image14.png', 'la_003image15.png', 'la_003image16.png', 'la_003image17.png', 'la_003image18.png', 'la_003image19.png', 'la_003image20.png', 'la_003image21.png', 'la_003image22.png', 'la_003image23.png', 'la_003image24.png', 'la_003image25.png', 'la_003image26.png', 'la_003image27.png', 'la_003image28.png', 'la_003image29.png', 'la_003image30.png', 'la_003image31.png', 'la_003image32.png', 'la_003image33.png', 'la_003image34.png', 'la_003image35.png', 'la_003image36.png', 'la_003image37.png', 'la_003image38.png', 'la_003image39.png', 'la_003image40.png', 'la_003image41.png', 'la_003image42.png', 'la_003image43.png', 'la_003image44.png', 'la_003image45.png', 'la_003image46.png', 'la_003image47.png', 'la_003image48.png', 'la_003image49.png', 'la_003image50.png', 'la_003image51.png', 'la_003image52.png', 'la_003image53.png', 'la_003image54.png', 'la_003image55.png', 'la_003image56.png', 'la_003image57.png', 'la_003image58.png', 'la_003image59.png', 'la_003image60.png', 'la_003image61.png', 'la_003image62.png', 'la_003image63.png', 'la_003image64.png', 'la_003image65.png', 'la_003image66.png', 'la_003image67.png', 'la_003image68.png', 'la_003image69.png', 'la_003image70.png', 'la_003image71.png', 'la_003image72.png', 'la_003image73.png', 'la_003image74.png', 'la_003image75.png', 'la_003image76.png', 'la_003image77.png', 'la_003image78.png', 'la_003image79.png', 'la_003image80.png', 'la_003image81.png', 'la_003image82.png', 'la_003image83.png', 'la_003image84.png', 'la_003image85.png', 'la_003image86.png', 'la_003image87.png', 'la_003image88.png', 'la_003image89.png', 'la_003image90.png', 'la_003image91.png', 'la_003image92.png', 'la_003image93.png', 'la_003image94.png', 'la_003image95.png', 'la_003image96.png', 'la_003image97.png', 'la_003image98.png', 'la_003image99.png', 'la_003image100.png', 'la_003image101.png', 'la_003image102.png', 'la_003image103.png', 'la_003image104.png', 'la_003image105.png', 'la_003image106.png', 'la_003image107.png', 'la_003image108.png', 'la_003image109.png', 'la_003image110.png', 'la_003image111.png', 'la_003image112.png', 'la_003image113.png', 'la_003image114.png', 'la_003image115.png', 'la_003image116.png', 'la_003image117.png', 'la_003image118.png', 'la_003image119.png', 'la_003image120.png', 'la_003image121.png', 'la_003image122.png', 'la_003image123.png', 'la_003image124.png', 'la_003image125.png', 'la_003image126.png', 'la_003image127.png', 'la_003image128.png', 'la_003image129.png', 'la_004image1.png', 'la_004image2.png', 'la_004image3.png', 'la_004image4.png', 'la_004image5.png', 'la_004image6.png', 'la_004image7.png', 'la_004image8.png', 'la_004image9.png', 'la_004image10.png', 'la_004image11.png', 'la_004image12.png', 'la_004image13.png', 'la_004image14.png', 'la_004image15.png', 'la_004image16.png', 'la_004image17.png', 'la_004image18.png', 'la_004image19.png', 'la_004image20.png', 'la_004image21.png', 'la_004image22.png', 'la_004image23.png', 'la_004image24.png', 'la_004image25.png', 'la_004image26.png', 'la_004image27.png', 'la_004image28.png', 'la_004image29.png', 'la_004image30.png', 'la_004image31.png', 'la_004image32.png', 'la_004image33.png', 'la_004image34.png', 'la_004image35.png', 'la_004image36.png', 'la_004image37.png', 'la_004image38.png', 'la_004image39.png', 'la_004image40.png', 'la_004image41.png', 'la_004image42.png', 'la_004image43.png', 'la_004image44.png', 'la_004image45.png', 'la_004image46.png', 'la_004image47.png', 'la_004image48.png', 'la_004image49.png', 'la_004image50.png', 'la_004image51.png', 'la_004image52.png', 'la_004image53.png', 'la_004image54.png', 'la_004image55.png', 'la_004image56.png', 'la_004image57.png', 'la_004image58.png', 'la_004image59.png', 'la_004image60.png', 'la_004image61.png', 'la_004image62.png', 'la_004image63.png', 'la_004image64.png', 'la_004image65.png', 'la_004image66.png', 'la_004image67.png', 'la_004image68.png', 'la_004image69.png', 'la_004image70.png', 'la_004image71.png', 'la_004image72.png', 'la_004image73.png', 'la_004image74.png', 'la_004image75.png', 'la_004image76.png', 'la_004image77.png', 'la_004image78.png', 'la_004image79.png', 'la_004image80.png', 'la_004image81.png', 'la_004image82.png', 'la_004image83.png', 'la_004image84.png', 'la_004image85.png', 'la_004image86.png', 'la_004image87.png', 'la_004image88.png', 'la_004image89.png', 'la_004image90.png', 'la_004image91.png', 'la_004image92.png', 'la_004image93.png', 'la_004image94.png', 'la_004image95.png', 'la_004image96.png', 'la_004image97.png', 'la_004image98.png', 'la_004image99.png', 'la_004image100.png', 'la_004image101.png', 'la_004image102.png', 'la_004image103.png', 'la_004image104.png', 'la_004image105.png', 'la_004image106.png', 'la_004image107.png', 'la_004image108.png', 'la_004image109.png', 'la_005image1.png', 'la_005image2.png', 'la_005image3.png', 'la_005image4.png', 'la_005image5.png', 'la_005image6.png', 'la_005image7.png', 'la_005image8.png', 'la_005image9.png', 'la_005image10.png', 'la_005image11.png', 'la_005image12.png', 'la_005image13.png', 'la_005image14.png', 'la_005image15.png', 'la_005image16.png', 'la_005image17.png', 'la_005image18.png', 'la_005image19.png', 'la_005image20.png', 'la_005image21.png', 'la_005image22.png', 'la_005image23.png', 'la_005image24.png', 'la_005image25.png', 'la_005image26.png', 'la_005image27.png', 'la_005image28.png', 'la_005image29.png', 'la_005image30.png', 'la_005image31.png', 'la_005image32.png', 'la_005image33.png', 'la_005image34.png', 'la_005image35.png', 'la_005image36.png', 'la_005image37.png', 'la_005image38.png', 'la_005image39.png', 'la_005image40.png', 'la_005image41.png', 'la_005image42.png', 'la_005image43.png', 'la_005image44.png', 'la_005image45.png', 'la_005image46.png', 'la_005image47.png', 'la_005image48.png', 'la_005image49.png', 'la_005image50.png', 'la_005image51.png', 'la_005image52.png', 'la_005image53.png', 'la_005image54.png', 'la_005image55.png', 'la_005image56.png', 'la_005image57.png', 'la_005image58.png', 'la_005image59.png', 'la_005image60.png', 'la_005image61.png', 'la_005image62.png', 'la_005image63.png', 'la_005image64.png', 'la_005image65.png', 'la_005image66.png', 'la_005image67.png', 'la_005image68.png', 'la_005image69.png', 'la_005image70.png', 'la_005image71.png', 'la_005image72.png', 'la_005image73.png', 'la_005image74.png', 'la_005image75.png', 'la_005image76.png', 'la_005image77.png', 'la_005image78.png', 'la_005image79.png', 'la_005image80.png', 'la_005image81.png', 'la_005image82.png', 'la_005image83.png', 'la_005image84.png', 'la_005image85.png', 'la_005image86.png', 'la_005image87.png', 'la_005image88.png', 'la_005image89.png', 'la_005image90.png', 'la_005image91.png', 'la_005image92.png', 'la_005image93.png', 'la_005image94.png', 'la_005image95.png', 'la_005image96.png', 'la_005image97.png', 'la_005image98.png', 'la_005image99.png', 'la_005image100.png', 'la_005image101.png', 'la_005image102.png', 'la_005image103.png', 'la_005image104.png', 'la_005image105.png', 'la_005image106.png', 'la_005image107.png', 'la_005image108.png', 'la_005image109.png', 'la_005image110.png', 'la_005image111.png', 'la_005image112.png', 'la_005image113.png', 'la_005image114.png', 'la_005image115.png', 'la_005image116.png', 'la_005image117.png', 'la_005image118.png', 'la_005image119.png', 'la_007image1.png', 'la_007image2.png', 'la_007image3.png', 'la_007image4.png', 'la_007image5.png', 'la_007image6.png', 'la_007image7.png', 'la_007image8.png', 'la_007image9.png', 'la_007image10.png', 'la_007image11.png', 'la_007image12.png', 'la_007image13.png', 'la_007image14.png', 'la_007image15.png', 'la_007image16.png', 'la_007image17.png', 'la_007image18.png', 'la_007image19.png', 'la_007image20.png', 'la_007image21.png', 'la_007image22.png', 'la_007image23.png', 'la_007image24.png', 'la_007image25.png', 'la_007image26.png', 'la_007image27.png', 'la_007image28.png', 'la_007image29.png', 'la_007image30.png', 'la_007image31.png', 'la_007image32.png', 'la_007image33.png', 'la_007image34.png', 'la_007image35.png', 'la_007image36.png', 'la_007image37.png', 'la_007image38.png', 'la_007image39.png', 'la_007image40.png', 'la_007image41.png', 'la_007image42.png', 'la_007image43.png', 'la_007image44.png', 'la_007image45.png', 'la_007image46.png', 'la_007image47.png', 'la_007image48.png', 'la_007image49.png', 'la_007image50.png', 'la_007image51.png', 'la_007image52.png', 'la_007image53.png', 'la_007image54.png', 'la_007image55.png', 'la_007image56.png', 'la_007image57.png', 'la_007image58.png', 'la_007image59.png', 'la_007image60.png', 'la_007image61.png', 'la_007image62.png', 'la_007image63.png', 'la_007image64.png', 'la_007image65.png', 'la_007image66.png', 'la_007image67.png', 'la_007image68.png', 'la_007image69.png', 'la_007image70.png', 'la_007image71.png', 'la_007image72.png', 'la_007image73.png', 'la_007image74.png', 'la_007image75.png', 'la_007image76.png', 'la_007image77.png', 'la_007image78.png', 'la_007image79.png', 'la_007image80.png', 'la_007image81.png', 'la_007image82.png', 'la_007image83.png', 'la_007image84.png', 'la_007image85.png', 'la_007image86.png', 'la_007image87.png', 'la_007image88.png', 'la_007image89.png', 'la_007image90.png', 'la_007image91.png', 'la_007image92.png', 'la_007image93.png', 'la_007image94.png', 'la_007image95.png', 'la_007image96.png', 'la_007image97.png', 'la_007image98.png', 'la_007image99.png', 'la_007image100.png', 'la_007image101.png', 'la_007image102.png', 'la_007image103.png', 'la_007image104.png', 'la_007image105.png', 'la_007image106.png', 'la_007image107.png', 'la_007image108.png', 'la_007image109.png', 'la_007image110.png', 'la_007image111.png', 'la_007image112.png', 'la_007image113.png', 'la_007image114.png', 'la_007image115.png', 'la_007image116.png', 'la_007image117.png', 'la_007image118.png', 'la_007image119.png', 'la_007image120.png', 'la_007image121.png', 'la_007image122.png', 'la_007image123.png', 'la_007image124.png', 'la_007image125.png', 'la_007image126.png', 'la_007image127.png', 'la_007image128.png', 'la_007image129.png', 'la_009image1.png', 'la_009image2.png', 'la_009image3.png', 'la_009image4.png', 'la_009image5.png', 'la_009image6.png', 'la_009image7.png', 'la_009image8.png', 'la_009image9.png', 'la_009image10.png', 'la_009image11.png', 'la_009image12.png', 'la_009image13.png', 'la_009image14.png', 'la_009image15.png', 'la_009image16.png', 'la_009image17.png', 'la_009image18.png', 'la_009image19.png', 'la_009image20.png', 'la_009image21.png', 'la_009image22.png', 'la_009image23.png', 'la_009image24.png', 'la_009image25.png', 'la_009image26.png', 'la_009image27.png', 'la_009image28.png', 'la_009image29.png', 'la_009image30.png', 'la_009image31.png', 'la_009image32.png', 'la_009image33.png', 'la_009image34.png', 'la_009image35.png', 'la_009image36.png', 'la_009image37.png', 'la_009image38.png', 'la_009image39.png', 'la_009image40.png', 'la_009image41.png', 'la_009image42.png', 'la_009image43.png', 'la_009image44.png', 'la_009image45.png', 'la_009image46.png', 'la_009image47.png', 'la_009image48.png', 'la_009image49.png', 'la_009image50.png', 'la_009image51.png', 'la_009image52.png', 'la_009image53.png', 'la_009image54.png', 'la_009image55.png', 'la_009image56.png', 'la_009image57.png', 'la_009image58.png', 'la_009image59.png', 'la_009image60.png', 'la_009image61.png', 'la_009image62.png', 'la_009image63.png', 'la_009image64.png', 'la_009image65.png', 'la_009image66.png', 'la_009image67.png', 'la_009image68.png', 'la_009image69.png', 'la_009image70.png', 'la_009image71.png', 'la_009image72.png', 'la_009image73.png', 'la_009image74.png', 'la_009image75.png', 'la_009image76.png', 'la_009image77.png', 'la_009image78.png', 'la_009image79.png', 'la_009image80.png', 'la_009image81.png', 'la_009image82.png', 'la_009image83.png', 'la_009image84.png', 'la_009image85.png', 'la_009image86.png', 'la_009image87.png', 'la_009image88.png', 'la_009image89.png', 'la_009image90.png', 'la_009image91.png', 'la_009image92.png', 'la_009image93.png', 'la_009image94.png', 'la_009image95.png', 'la_009image96.png', 'la_009image97.png', 'la_009image98.png', 'la_009image99.png', 'la_010image1.png', 'la_010image2.png', 'la_010image3.png', 'la_010image4.png', 'la_010image5.png', 'la_010image6.png', 'la_010image7.png', 'la_010image8.png', 'la_010image9.png', 'la_010image10.png', 'la_010image11.png', 'la_010image12.png', 'la_010image13.png', 'la_010image14.png', 'la_010image15.png', 'la_010image16.png', 'la_010image17.png', 'la_010image18.png', 'la_010image19.png', 'la_010image20.png', 'la_010image21.png', 'la_010image22.png', 'la_010image23.png', 'la_010image24.png', 'la_010image25.png', 'la_010image26.png', 'la_010image27.png', 'la_010image28.png', 'la_010image29.png', 'la_010image30.png', 'la_010image31.png', 'la_010image32.png', 'la_010image33.png', 'la_010image34.png', 'la_010image35.png', 'la_010image36.png', 'la_010image37.png', 'la_010image38.png', 'la_010image39.png', 'la_010image40.png', 'la_010image41.png', 'la_010image42.png', 'la_010image43.png', 'la_010image44.png', 'la_010image45.png', 'la_010image46.png', 'la_010image47.png', 'la_010image48.png', 'la_010image49.png', 'la_010image50.png', 'la_010image51.png', 'la_010image52.png', 'la_010image53.png', 'la_010image54.png', 'la_010image55.png', 'la_010image56.png', 'la_010image57.png', 'la_010image58.png', 'la_010image59.png', 'la_010image60.png', 'la_010image61.png', 'la_010image62.png', 'la_010image63.png', 'la_010image64.png', 'la_010image65.png', 'la_010image66.png', 'la_010image67.png', 'la_010image68.png', 'la_010image69.png', 'la_010image70.png', 'la_010image71.png', 'la_010image72.png', 'la_010image73.png', 'la_010image74.png', 'la_010image75.png', 'la_010image76.png', 'la_010image77.png', 'la_010image78.png', 'la_010image79.png', 'la_010image80.png', 'la_010image81.png', 'la_010image82.png', 'la_010image83.png', 'la_010image84.png', 'la_010image85.png', 'la_010image86.png', 'la_010image87.png', 'la_010image88.png', 'la_010image89.png', 'la_010image90.png', 'la_010image91.png', 'la_010image92.png', 'la_010image93.png', 'la_010image94.png', 'la_010image95.png', 'la_010image96.png', 'la_010image97.png', 'la_010image98.png', 'la_010image99.png', 'la_010image100.png', 'la_010image101.png', 'la_010image102.png', 'la_010image103.png', 'la_010image104.png', 'la_010image105.png', 'la_010image106.png', 'la_010image107.png', 'la_010image108.png', 'la_010image109.png', 'la_010image110.png', 'la_010image111.png', 'la_010image112.png', 'la_010image113.png', 'la_010image114.png', 'la_010image115.png', 'la_010image116.png', 'la_010image117.png', 'la_010image118.png', 'la_010image119.png', 'la_011image1.png', 'la_011image2.png', 'la_011image3.png', 'la_011image4.png', 'la_011image5.png', 'la_011image6.png', 'la_011image7.png', 'la_011image8.png', 'la_011image9.png', 'la_011image10.png', 'la_011image11.png', 'la_011image12.png', 'la_011image13.png', 'la_011image14.png', 'la_011image15.png', 'la_011image16.png', 'la_011image17.png', 'la_011image18.png', 'la_011image19.png', 'la_011image20.png', 'la_011image21.png', 'la_011image22.png', 'la_011image23.png', 'la_011image24.png', 'la_011image25.png', 'la_011image26.png', 'la_011image27.png', 'la_011image28.png', 'la_011image29.png', 'la_011image30.png', 'la_011image31.png', 'la_011image32.png', 'la_011image33.png', 'la_011image34.png', 'la_011image35.png', 'la_011image36.png', 'la_011image37.png', 'la_011image38.png', 'la_011image39.png', 'la_011image40.png', 'la_011image41.png', 'la_011image42.png', 'la_011image43.png', 'la_011image44.png', 'la_011image45.png', 'la_011image46.png', 'la_011image47.png', 'la_011image48.png', 'la_011image49.png', 'la_011image50.png', 'la_011image51.png', 'la_011image52.png', 'la_011image53.png', 'la_011image54.png', 'la_011image55.png', 'la_011image56.png', 'la_011image57.png', 'la_011image58.png', 'la_011image59.png', 'la_011image60.png', 'la_011image61.png', 'la_011image62.png', 'la_011image63.png', 'la_011image64.png', 'la_011image65.png', 'la_011image66.png', 'la_011image67.png', 'la_011image68.png', 'la_011image69.png', 'la_011image70.png', 'la_011image71.png', 'la_011image72.png', 'la_011image73.png', 'la_011image74.png', 'la_011image75.png', 'la_011image76.png', 'la_011image77.png', 'la_011image78.png', 'la_011image79.png', 'la_011image80.png', 'la_011image81.png', 'la_011image82.png', 'la_011image83.png', 'la_011image84.png', 'la_011image85.png', 'la_011image86.png', 'la_011image87.png', 'la_011image88.png', 'la_011image89.png', 'la_011image90.png', 'la_011image91.png', 'la_011image92.png', 'la_011image93.png', 'la_011image94.png', 'la_011image95.png', 'la_011image96.png', 'la_011image97.png', 'la_011image98.png', 'la_011image99.png', 'la_011image100.png', 'la_011image101.png', 'la_011image102.png', 'la_011image103.png', 'la_011image104.png', 'la_011image105.png', 'la_011image106.png', 'la_011image107.png', 'la_011image108.png', 'la_011image109.png', 'la_011image110.png', 'la_011image111.png', 'la_011image112.png', 'la_011image113.png', 'la_011image114.png', 'la_011image115.png', 'la_011image116.png', 'la_011image117.png', 'la_011image118.png', 'la_011image119.png', 'la_014image1.png', 'la_014image2.png', 'la_014image3.png', 'la_014image4.png', 'la_014image5.png', 'la_014image6.png', 'la_014image7.png', 'la_014image8.png', 'la_014image9.png', 'la_014image10.png', 'la_014image11.png', 'la_014image12.png', 'la_014image13.png', 'la_014image14.png', 'la_014image15.png', 'la_014image16.png', 'la_014image17.png', 'la_014image18.png', 'la_014image19.png', 'la_014image20.png', 'la_014image21.png', 'la_014image22.png', 'la_014image23.png', 'la_014image24.png', 'la_014image25.png', 'la_014image26.png', 'la_014image27.png', 'la_014image28.png', 'la_014image29.png', 'la_014image30.png', 'la_014image31.png', 'la_014image32.png', 'la_014image33.png', 'la_014image34.png', 'la_014image35.png', 'la_014image36.png', 'la_014image37.png', 'la_014image38.png', 'la_014image39.png', 'la_014image40.png', 'la_014image41.png', 'la_014image42.png', 'la_014image43.png', 'la_014image44.png', 'la_014image45.png', 'la_014image46.png', 'la_014image47.png', 'la_014image48.png', 'la_014image49.png', 'la_014image50.png', 'la_014image51.png', 'la_014image52.png', 'la_014image53.png', 'la_014image54.png', 'la_014image55.png', 'la_014image56.png', 'la_014image57.png', 'la_014image58.png', 'la_014image59.png', 'la_014image60.png', 'la_014image61.png', 'la_014image62.png', 'la_014image63.png', 'la_014image64.png', 'la_014image65.png', 'la_014image66.png', 'la_014image67.png', 'la_014image68.png', 'la_014image69.png', 'la_014image70.png', 'la_014image71.png', 'la_014image72.png', 'la_014image73.png', 'la_014image74.png', 'la_014image75.png', 'la_014image76.png', 'la_014image77.png', 'la_014image78.png', 'la_014image79.png', 'la_014image80.png', 'la_014image81.png', 'la_014image82.png', 'la_014image83.png', 'la_014image84.png', 'la_014image85.png', 'la_014image86.png', 'la_014image87.png', 'la_014image88.png', 'la_014image89.png', 'la_014image90.png', 'la_014image91.png', 'la_014image92.png', 'la_014image93.png', 'la_014image94.png', 'la_014image95.png', 'la_014image96.png', 'la_014image97.png', 'la_014image98.png', 'la_014image99.png', 'la_014image100.png', 'la_014image101.png', 'la_014image102.png', 'la_014image103.png', 'la_014image104.png', 'la_014image105.png', 'la_014image106.png', 'la_014image107.png', 'la_014image108.png', 'la_014image109.png', 'la_014image110.png', 'la_014image111.png', 'la_014image112.png', 'la_014image113.png', 'la_014image114.png', 'la_014image115.png', 'la_014image116.png', 'la_014image117.png', 'la_014image118.png', 'la_014image119.png', 'la_016image1.png', 'la_016image2.png', 'la_016image3.png', 'la_016image4.png', 'la_016image5.png', 'la_016image6.png', 'la_016image7.png', 'la_016image8.png', 'la_016image9.png', 'la_016image10.png', 'la_016image11.png', 'la_016image12.png', 'la_016image13.png', 'la_016image14.png', 'la_016image15.png', 'la_016image16.png', 'la_016image17.png', 'la_016image18.png', 'la_016image19.png', 'la_016image20.png', 'la_016image21.png', 'la_016image22.png', 'la_016image23.png', 'la_016image24.png', 'la_016image25.png', 'la_016image26.png', 'la_016image27.png', 'la_016image28.png', 'la_016image29.png', 'la_016image30.png', 'la_016image31.png', 'la_016image32.png', 'la_016image33.png', 'la_016image34.png', 'la_016image35.png', 'la_016image36.png', 'la_016image37.png', 'la_016image38.png', 'la_016image39.png', 'la_016image40.png', 'la_016image41.png', 'la_016image42.png', 'la_016image43.png', 'la_016image44.png', 'la_016image45.png', 'la_016image46.png', 'la_016image47.png', 'la_016image48.png', 'la_016image49.png', 'la_016image50.png', 'la_016image51.png', 'la_016image52.png', 'la_016image53.png', 'la_016image54.png', 'la_016image55.png', 'la_016image56.png', 'la_016image57.png', 'la_016image58.png', 'la_016image59.png', 'la_016image60.png', 'la_016image61.png', 'la_016image62.png', 'la_016image63.png', 'la_016image64.png', 'la_016image65.png', 'la_016image66.png', 'la_016image67.png', 'la_016image68.png', 'la_016image69.png', 'la_016image70.png', 'la_016image71.png', 'la_016image72.png', 'la_016image73.png', 'la_016image74.png', 'la_016image75.png', 'la_016image76.png', 'la_016image77.png', 'la_016image78.png', 'la_016image79.png', 'la_016image80.png', 'la_016image81.png', 'la_016image82.png', 'la_016image83.png', 'la_016image84.png', 'la_016image85.png', 'la_016image86.png', 'la_016image87.png', 'la_016image88.png', 'la_016image89.png', 'la_017image1.png', 'la_017image2.png', 'la_017image3.png', 'la_017image4.png', 'la_017image5.png', 'la_017image6.png', 'la_017image7.png', 'la_017image8.png', 'la_017image9.png', 'la_017image10.png', 'la_017image11.png', 'la_017image12.png', 'la_017image13.png', 'la_017image14.png', 'la_017image15.png', 'la_017image16.png', 'la_017image17.png', 'la_017image18.png', 'la_017image19.png', 'la_017image20.png', 'la_017image21.png', 'la_017image22.png', 'la_017image23.png', 'la_017image24.png', 'la_017image25.png', 'la_017image26.png', 'la_017image27.png', 'la_017image28.png', 'la_017image29.png', 'la_017image30.png', 'la_017image31.png', 'la_017image32.png', 'la_017image33.png', 'la_017image34.png', 'la_017image35.png', 'la_017image36.png', 'la_017image37.png', 'la_017image38.png', 'la_017image39.png', 'la_017image40.png', 'la_017image41.png', 'la_017image42.png', 'la_017image43.png', 'la_017image44.png', 'la_017image45.png', 'la_017image46.png', 'la_017image47.png', 'la_017image48.png', 'la_017image49.png', 'la_017image50.png', 'la_017image51.png', 'la_017image52.png', 'la_017image53.png', 'la_017image54.png', 'la_017image55.png', 'la_017image56.png', 'la_017image57.png', 'la_017image58.png', 'la_017image59.png', 'la_017image60.png', 'la_017image61.png', 'la_017image62.png', 'la_017image63.png', 'la_017image64.png', 'la_017image65.png', 'la_017image66.png', 'la_017image67.png', 'la_017image68.png', 'la_017image69.png', 'la_017image70.png', 'la_017image71.png', 'la_017image72.png', 'la_017image73.png', 'la_017image74.png', 'la_017image75.png', 'la_017image76.png', 'la_017image77.png', 'la_017image78.png', 'la_017image79.png', 'la_017image80.png', 'la_017image81.png', 'la_017image82.png', 'la_017image83.png', 'la_017image84.png', 'la_017image85.png', 'la_017image86.png', 'la_017image87.png', 'la_017image88.png', 'la_017image89.png', 'la_017image90.png', 'la_017image91.png', 'la_017image92.png', 'la_017image93.png', 'la_017image94.png', 'la_017image95.png', 'la_017image96.png', 'la_017image97.png', 'la_017image98.png', 'la_017image99.png', 'la_017image100.png', 'la_017image101.png', 'la_017image102.png', 'la_017image103.png', 'la_017image104.png', 'la_017image105.png', 'la_017image106.png', 'la_017image107.png', 'la_017image108.png', 'la_017image109.png', 'la_017image110.png', 'la_017image111.png', 'la_017image112.png', 'la_017image113.png', 'la_017image114.png', 'la_017image115.png', 'la_017image116.png', 'la_017image117.png', 'la_017image118.png', 'la_017image119.png', 'la_018image1.png', 'la_018image2.png', 'la_018image3.png', 'la_018image4.png', 'la_018image5.png', 'la_018image6.png', 'la_018image7.png', 'la_018image8.png', 'la_018image9.png', 'la_018image10.png', 'la_018image11.png', 'la_018image12.png', 'la_018image13.png', 'la_018image14.png', 'la_018image15.png', 'la_018image16.png', 'la_018image17.png', 'la_018image18.png', 'la_018image19.png', 'la_018image20.png', 'la_018image21.png', 'la_018image22.png', 'la_018image23.png', 'la_018image24.png', 'la_018image25.png', 'la_018image26.png', 'la_018image27.png', 'la_018image28.png', 'la_018image29.png', 'la_018image30.png', 'la_018image31.png', 'la_018image32.png', 'la_018image33.png', 'la_018image34.png', 'la_018image35.png', 'la_018image36.png', 'la_018image37.png', 'la_018image38.png', 'la_018image39.png', 'la_018image40.png', 'la_018image41.png', 'la_018image42.png', 'la_018image43.png', 'la_018image44.png', 'la_018image45.png', 'la_018image46.png', 'la_018image47.png', 'la_018image48.png', 'la_018image49.png', 'la_018image50.png', 'la_018image51.png', 'la_018image52.png', 'la_018image53.png', 'la_018image54.png', 'la_018image55.png', 'la_018image56.png', 'la_018image57.png', 'la_018image58.png', 'la_018image59.png', 'la_018image60.png', 'la_018image61.png', 'la_018image62.png', 'la_018image63.png', 'la_018image64.png', 'la_018image65.png', 'la_018image66.png', 'la_018image67.png', 'la_018image68.png', 'la_018image69.png', 'la_018image70.png', 'la_018image71.png', 'la_018image72.png', 'la_018image73.png', 'la_018image74.png', 'la_018image75.png', 'la_018image76.png', 'la_018image77.png', 'la_018image78.png', 'la_018image79.png', 'la_018image80.png', 'la_018image81.png', 'la_018image82.png', 'la_018image83.png', 'la_018image84.png', 'la_018image85.png', 'la_018image86.png', 'la_018image87.png', 'la_018image88.png', 'la_018image89.png', 'la_018image90.png', 'la_018image91.png', 'la_018image92.png', 'la_018image93.png', 'la_018image94.png', 'la_018image95.png', 'la_018image96.png', 'la_018image97.png', 'la_018image98.png', 'la_018image99.png', 'la_018image100.png', 'la_018image101.png', 'la_018image102.png', 'la_018image103.png', 'la_018image104.png', 'la_018image105.png', 'la_018image106.png', 'la_018image107.png', 'la_018image108.png', 'la_018image109.png', 'la_018image110.png', 'la_018image111.png', 'la_018image112.png', 'la_018image113.png', 'la_018image114.png', 'la_018image115.png', 'la_018image116.png', 'la_018image117.png', 'la_018image118.png', 'la_018image119.png', 'la_018image120.png', 'la_018image121.png', 'la_019image1.png', 'la_019image2.png', 'la_019image3.png', 'la_019image4.png', 'la_019image5.png', 'la_019image6.png', 'la_019image7.png', 'la_019image8.png', 'la_019image9.png', 'la_019image10.png', 'la_019image11.png', 'la_019image12.png', 'la_019image13.png', 'la_019image14.png', 'la_019image15.png', 'la_019image16.png', 'la_019image17.png', 'la_019image18.png', 'la_019image19.png', 'la_019image20.png', 'la_019image21.png', 'la_019image22.png', 'la_019image23.png', 'la_019image24.png', 'la_019image25.png', 'la_019image26.png', 'la_019image27.png', 'la_019image28.png', 'la_019image29.png', 'la_019image30.png', 'la_019image31.png', 'la_019image32.png', 'la_019image33.png', 'la_019image34.png', 'la_019image35.png', 'la_019image36.png', 'la_019image37.png', 'la_019image38.png', 'la_019image39.png', 'la_019image40.png', 'la_019image41.png', 'la_019image42.png', 'la_019image43.png', 'la_019image44.png', 'la_019image45.png', 'la_019image46.png', 'la_019image47.png', 'la_019image48.png', 'la_019image49.png', 'la_019image50.png', 'la_019image51.png', 'la_019image52.png', 'la_019image53.png', 'la_019image54.png', 'la_019image55.png', 'la_019image56.png', 'la_019image57.png', 'la_019image58.png', 'la_019image59.png', 'la_019image60.png', 'la_019image61.png', 'la_019image62.png', 'la_019image63.png', 'la_019image64.png', 'la_019image65.png', 'la_019image66.png', 'la_019image67.png', 'la_019image68.png', 'la_019image69.png', 'la_019image70.png', 'la_019image71.png', 'la_019image72.png', 'la_019image73.png', 'la_019image74.png', 'la_019image75.png', 'la_019image76.png', 'la_019image77.png', 'la_019image78.png', 'la_019image79.png', 'la_019image80.png', 'la_019image81.png', 'la_019image82.png', 'la_019image83.png', 'la_019image84.png', 'la_019image85.png', 'la_019image86.png', 'la_019image87.png', 'la_019image88.png', 'la_019image89.png', 'la_019image90.png', 'la_019image91.png', 'la_019image92.png', 'la_019image93.png', 'la_019image94.png', 'la_019image95.png', 'la_019image96.png', 'la_019image97.png', 'la_019image98.png', 'la_019image99.png', 'la_020image1.png', 'la_020image2.png', 'la_020image3.png', 'la_020image4.png', 'la_020image5.png', 'la_020image6.png', 'la_020image7.png', 'la_020image8.png', 'la_020image9.png', 'la_020image10.png', 'la_020image11.png', 'la_020image12.png', 'la_020image13.png', 'la_020image14.png', 'la_020image15.png', 'la_020image16.png', 'la_020image17.png', 'la_020image18.png', 'la_020image19.png', 'la_020image20.png', 'la_020image21.png', 'la_020image22.png', 'la_020image23.png', 'la_020image24.png', 'la_020image25.png', 'la_020image26.png', 'la_020image27.png', 'la_020image28.png', 'la_020image29.png', 'la_020image30.png', 'la_020image31.png', 'la_020image32.png', 'la_020image33.png', 'la_020image34.png', 'la_020image35.png', 'la_020image36.png', 'la_020image37.png', 'la_020image38.png', 'la_020image39.png', 'la_020image40.png', 'la_020image41.png', 'la_020image42.png', 'la_020image43.png', 'la_020image44.png', 'la_020image45.png', 'la_020image46.png', 'la_020image47.png', 'la_020image48.png', 'la_020image49.png', 'la_020image50.png', 'la_020image51.png', 'la_020image52.png', 'la_020image53.png', 'la_020image54.png', 'la_020image55.png', 'la_020image56.png', 'la_020image57.png', 'la_020image58.png', 'la_020image59.png', 'la_020image60.png', 'la_020image61.png', 'la_020image62.png', 'la_020image63.png', 'la_020image64.png', 'la_020image65.png', 'la_020image66.png', 'la_020image67.png', 'la_020image68.png', 'la_020image69.png', 'la_020image70.png', 'la_020image71.png', 'la_020image72.png', 'la_020image73.png', 'la_020image74.png', 'la_020image75.png', 'la_020image76.png', 'la_020image77.png', 'la_020image78.png', 'la_020image79.png', 'la_020image80.png', 'la_020image81.png', 'la_020image82.png', 'la_020image83.png', 'la_020image84.png', 'la_020image85.png', 'la_020image86.png', 'la_020image87.png', 'la_020image88.png', 'la_020image89.png', 'la_020image90.png', 'la_020image91.png', 'la_020image92.png', 'la_020image93.png', 'la_020image94.png', 'la_020image95.png', 'la_020image96.png', 'la_020image97.png', 'la_020image98.png', 'la_020image99.png', 'la_020image100.png', 'la_020image101.png', 'la_020image102.png', 'la_020image103.png', 'la_020image104.png', 'la_020image105.png', 'la_020image106.png', 'la_020image107.png', 'la_020image108.png', 'la_020image109.png', 'la_021image1.png', 'la_021image2.png', 'la_021image3.png', 'la_021image4.png', 'la_021image5.png', 'la_021image6.png', 'la_021image7.png', 'la_021image8.png', 'la_021image9.png', 'la_021image10.png', 'la_021image11.png', 'la_021image12.png', 'la_021image13.png', 'la_021image14.png', 'la_021image15.png', 'la_021image16.png', 'la_021image17.png', 'la_021image18.png', 'la_021image19.png', 'la_021image20.png', 'la_021image21.png', 'la_021image22.png', 'la_021image23.png', 'la_021image24.png', 'la_021image25.png', 'la_021image26.png', 'la_021image27.png', 'la_021image28.png', 'la_021image29.png', 'la_021image30.png', 'la_021image31.png', 'la_021image32.png', 'la_021image33.png', 'la_021image34.png', 'la_021image35.png', 'la_021image36.png', 'la_021image37.png', 'la_021image38.png', 'la_021image39.png', 'la_021image40.png', 'la_021image41.png', 'la_021image42.png', 'la_021image43.png', 'la_021image44.png', 'la_021image45.png', 'la_021image46.png', 'la_021image47.png', 'la_021image48.png', 'la_021image49.png', 'la_021image50.png', 'la_021image51.png', 'la_021image52.png', 'la_021image53.png', 'la_021image54.png', 'la_021image55.png', 'la_021image56.png', 'la_021image57.png', 'la_021image58.png', 'la_021image59.png', 'la_021image60.png', 'la_021image61.png', 'la_021image62.png', 'la_021image63.png', 'la_021image64.png', 'la_021image65.png', 'la_021image66.png', 'la_021image67.png', 'la_021image68.png', 'la_021image69.png', 'la_021image70.png', 'la_021image71.png', 'la_021image72.png', 'la_021image73.png', 'la_021image74.png', 'la_021image75.png', 'la_021image76.png', 'la_021image77.png', 'la_021image78.png', 'la_021image79.png', 'la_021image80.png', 'la_021image81.png', 'la_021image82.png', 'la_021image83.png', 'la_021image84.png', 'la_021image85.png', 'la_021image86.png', 'la_021image87.png', 'la_021image88.png', 'la_021image89.png', 'la_021image90.png', 'la_021image91.png', 'la_021image92.png', 'la_021image93.png', 'la_021image94.png', 'la_021image95.png', 'la_021image96.png', 'la_021image97.png', 'la_021image98.png', 'la_021image99.png', 'la_022image1.png', 'la_022image2.png', 'la_022image3.png', 'la_022image4.png', 'la_022image5.png', 'la_022image6.png', 'la_022image7.png', 'la_022image8.png', 'la_022image9.png', 'la_022image10.png', 'la_022image11.png', 'la_022image12.png', 'la_022image13.png', 'la_022image14.png', 'la_022image15.png', 'la_022image16.png', 'la_022image17.png', 'la_022image18.png', 'la_022image19.png', 'la_022image20.png', 'la_022image21.png', 'la_022image22.png', 'la_022image23.png', 'la_022image24.png', 'la_022image25.png', 'la_022image26.png', 'la_022image27.png', 'la_022image28.png', 'la_022image29.png', 'la_022image30.png', 'la_022image31.png', 'la_022image32.png', 'la_022image33.png', 'la_022image34.png', 'la_022image35.png', 'la_022image36.png', 'la_022image37.png', 'la_022image38.png', 'la_022image39.png', 'la_022image40.png', 'la_022image41.png', 'la_022image42.png', 'la_022image43.png', 'la_022image44.png', 'la_022image45.png', 'la_022image46.png', 'la_022image47.png', 'la_022image48.png', 'la_022image49.png', 'la_022image50.png', 'la_022image51.png', 'la_022image52.png', 'la_022image53.png', 'la_022image54.png', 'la_022image55.png', 'la_022image56.png', 'la_022image57.png', 'la_022image58.png', 'la_022image59.png', 'la_022image60.png', 'la_022image61.png', 'la_022image62.png', 'la_022image63.png', 'la_022image64.png', 'la_022image65.png', 'la_022image66.png', 'la_022image67.png', 'la_022image68.png', 'la_022image69.png', 'la_022image70.png', 'la_022image71.png', 'la_022image72.png', 'la_022image73.png', 'la_022image74.png', 'la_022image75.png', 'la_022image76.png', 'la_022image77.png', 'la_022image78.png', 'la_022image79.png', 'la_022image80.png', 'la_022image81.png', 'la_022image82.png', 'la_022image83.png', 'la_022image84.png', 'la_022image85.png', 'la_022image86.png', 'la_022image87.png', 'la_022image88.png', 'la_022image89.png', 'la_022image90.png', 'la_022image91.png', 'la_022image92.png', 'la_022image93.png', 'la_022image94.png', 'la_022image95.png', 'la_022image96.png', 'la_022image97.png', 'la_022image98.png', 'la_022image99.png', 'la_022image100.png', 'la_022image101.png', 'la_022image102.png', 'la_022image103.png', 'la_022image104.png', 'la_022image105.png', 'la_022image106.png', 'la_022image107.png', 'la_022image108.png', 'la_022image109.png', 'la_023image1.png', 'la_023image2.png', 'la_023image3.png', 'la_023image4.png', 'la_023image5.png', 'la_023image6.png', 'la_023image7.png', 'la_023image8.png', 'la_023image9.png', 'la_023image10.png', 'la_023image11.png', 'la_023image12.png', 'la_023image13.png', 'la_023image14.png', 'la_023image15.png', 'la_023image16.png', 'la_023image17.png', 'la_023image18.png', 'la_023image19.png', 'la_023image20.png', 'la_023image21.png', 'la_023image22.png', 'la_023image23.png', 'la_023image24.png', 'la_023image25.png', 'la_023image26.png', 'la_023image27.png', 'la_023image28.png', 'la_023image29.png', 'la_023image30.png', 'la_023image31.png', 'la_023image32.png', 'la_023image33.png', 'la_023image34.png', 'la_023image35.png', 'la_023image36.png', 'la_023image37.png', 'la_023image38.png', 'la_023image39.png', 'la_023image40.png', 'la_023image41.png', 'la_023image42.png', 'la_023image43.png', 'la_023image44.png', 'la_023image45.png', 'la_023image46.png', 'la_023image47.png', 'la_023image48.png', 'la_023image49.png', 'la_023image50.png', 'la_023image51.png', 'la_023image52.png', 'la_023image53.png', 'la_023image54.png', 'la_023image55.png', 'la_023image56.png', 'la_023image57.png', 'la_023image58.png', 'la_023image59.png', 'la_023image60.png', 'la_023image61.png', 'la_023image62.png', 'la_023image63.png', 'la_023image64.png', 'la_023image65.png', 'la_023image66.png', 'la_023image67.png', 'la_023image68.png', 'la_023image69.png', 'la_023image70.png', 'la_023image71.png', 'la_023image72.png', 'la_023image73.png', 'la_023image74.png', 'la_023image75.png', 'la_023image76.png', 'la_023image77.png', 'la_023image78.png', 'la_023image79.png', 'la_023image80.png', 'la_023image81.png', 'la_023image82.png', 'la_023image83.png', 'la_023image84.png', 'la_023image85.png', 'la_023image86.png', 'la_023image87.png', 'la_023image88.png', 'la_023image89.png', 'la_023image90.png', 'la_023image91.png', 'la_023image92.png', 'la_023image93.png', 'la_023image94.png', 'la_023image95.png', 'la_023image96.png', 'la_023image97.png', 'la_023image98.png', 'la_023image99.png', 'la_023image100.png', 'la_023image101.png', 'la_023image102.png', 'la_023image103.png', 'la_023image104.png', 'la_023image105.png', 'la_023image106.png', 'la_023image107.png', 'la_023image108.png', 'la_023image109.png', 'la_024image1.png', 'la_024image2.png', 'la_024image3.png', 'la_024image4.png', 'la_024image5.png', 'la_024image6.png', 'la_024image7.png', 'la_024image8.png', 'la_024image9.png', 'la_024image10.png', 'la_024image11.png', 'la_024image12.png', 'la_024image13.png', 'la_024image14.png', 'la_024image15.png', 'la_024image16.png', 'la_024image17.png', 'la_024image18.png', 'la_024image19.png', 'la_024image20.png', 'la_024image21.png', 'la_024image22.png', 'la_024image23.png', 'la_024image24.png', 'la_024image25.png', 'la_024image26.png', 'la_024image27.png', 'la_024image28.png', 'la_024image29.png', 'la_024image30.png', 'la_024image31.png', 'la_024image32.png', 'la_024image33.png', 'la_024image34.png', 'la_024image35.png', 'la_024image36.png', 'la_024image37.png', 'la_024image38.png', 'la_024image39.png', 'la_024image40.png', 'la_024image41.png', 'la_024image42.png', 'la_024image43.png', 'la_024image44.png', 'la_024image45.png', 'la_024image46.png', 'la_024image47.png', 'la_024image48.png', 'la_024image49.png', 'la_024image50.png', 'la_024image51.png', 'la_024image52.png', 'la_024image53.png', 'la_024image54.png', 'la_024image55.png', 'la_024image56.png', 'la_024image57.png', 'la_024image58.png', 'la_024image59.png', 'la_024image60.png', 'la_024image61.png', 'la_024image62.png', 'la_024image63.png', 'la_024image64.png', 'la_024image65.png', 'la_024image66.png', 'la_024image67.png', 'la_024image68.png', 'la_024image69.png', 'la_024image70.png', 'la_024image71.png', 'la_024image72.png', 'la_024image73.png', 'la_024image74.png', 'la_024image75.png', 'la_024image76.png', 'la_024image77.png', 'la_024image78.png', 'la_024image79.png', 'la_024image80.png', 'la_024image81.png', 'la_024image82.png', 'la_024image83.png', 'la_024image84.png', 'la_024image85.png', 'la_024image86.png', 'la_024image87.png', 'la_024image88.png', 'la_024image89.png', 'la_024image90.png', 'la_024image91.png', 'la_024image92.png', 'la_024image93.png', 'la_024image94.png', 'la_024image95.png', 'la_024image96.png', 'la_024image97.png', 'la_024image98.png', 'la_024image99.png', 'la_024image100.png', 'la_024image101.png', 'la_024image102.png', 'la_024image103.png', 'la_024image104.png', 'la_024image105.png', 'la_024image106.png', 'la_024image107.png', 'la_024image108.png', 'la_024image109.png', 'la_024image110.png', 'la_024image111.png', 'la_024image112.png', 'la_024image113.png', 'la_024image114.png', 'la_024image115.png', 'la_024image116.png', 'la_024image117.png', 'la_024image118.png', 'la_024image119.png', 'la_026image1.png', 'la_026image2.png', 'la_026image3.png', 'la_026image4.png', 'la_026image5.png', 'la_026image6.png', 'la_026image7.png', 'la_026image8.png', 'la_026image9.png', 'la_026image10.png', 'la_026image11.png', 'la_026image12.png', 'la_026image13.png', 'la_026image14.png', 'la_026image15.png', 'la_026image16.png', 'la_026image17.png', 'la_026image18.png', 'la_026image19.png', 'la_026image20.png', 'la_026image21.png', 'la_026image22.png', 'la_026image23.png', 'la_026image24.png', 'la_026image25.png', 'la_026image26.png', 'la_026image27.png', 'la_026image28.png', 'la_026image29.png', 'la_026image30.png', 'la_026image31.png', 'la_026image32.png', 'la_026image33.png', 'la_026image34.png', 'la_026image35.png', 'la_026image36.png', 'la_026image37.png', 'la_026image38.png', 'la_026image39.png', 'la_026image40.png', 'la_026image41.png', 'la_026image42.png', 'la_026image43.png', 'la_026image44.png', 'la_026image45.png', 'la_026image46.png', 'la_026image47.png', 'la_026image48.png', 'la_026image49.png', 'la_026image50.png', 'la_026image51.png', 'la_026image52.png', 'la_026image53.png', 'la_026image54.png', 'la_026image55.png', 'la_026image56.png', 'la_026image57.png', 'la_026image58.png', 'la_026image59.png', 'la_026image60.png', 'la_026image61.png', 'la_026image62.png', 'la_026image63.png', 'la_026image64.png', 'la_026image65.png', 'la_026image66.png', 'la_026image67.png', 'la_026image68.png', 'la_026image69.png', 'la_026image70.png', 'la_026image71.png', 'la_026image72.png', 'la_026image73.png', 'la_026image74.png', 'la_026image75.png', 'la_026image76.png', 'la_026image77.png', 'la_026image78.png', 'la_026image79.png', 'la_026image80.png', 'la_026image81.png', 'la_026image82.png', 'la_026image83.png', 'la_026image84.png', 'la_026image85.png', 'la_026image86.png', 'la_026image87.png', 'la_026image88.png', 'la_026image89.png', 'la_026image90.png', 'la_026image91.png', 'la_026image92.png', 'la_026image93.png', 'la_026image94.png', 'la_026image95.png', 'la_026image96.png', 'la_026image97.png', 'la_026image98.png', 'la_026image99.png', 'la_026image100.png', 'la_026image101.png', 'la_026image102.png', 'la_026image103.png', 'la_026image104.png', 'la_026image105.png', 'la_026image106.png', 'la_026image107.png', 'la_026image108.png', 'la_026image109.png', 'la_026image110.png', 'la_026image111.png', 'la_026image112.png', 'la_026image113.png', 'la_026image114.png', 'la_026image115.png', 'la_026image116.png', 'la_026image117.png', 'la_026image118.png', 'la_026image119.png', 'la_029image1.png', 'la_029image2.png', 'la_029image3.png', 'la_029image4.png', 'la_029image5.png', 'la_029image6.png', 'la_029image7.png', 'la_029image8.png', 'la_029image9.png', 'la_029image10.png', 'la_029image11.png', 'la_029image12.png', 'la_029image13.png', 'la_029image14.png', 'la_029image15.png', 'la_029image16.png', 'la_029image17.png', 'la_029image18.png', 'la_029image19.png', 'la_029image20.png', 'la_029image21.png', 'la_029image22.png', 'la_029image23.png', 'la_029image24.png', 'la_029image25.png', 'la_029image26.png', 'la_029image27.png', 'la_029image28.png', 'la_029image29.png', 'la_029image30.png', 'la_029image31.png', 'la_029image32.png', 'la_029image33.png', 'la_029image34.png', 'la_029image35.png', 'la_029image36.png', 'la_029image37.png', 'la_029image38.png', 'la_029image39.png', 'la_029image40.png', 'la_029image41.png', 'la_029image42.png', 'la_029image43.png', 'la_029image44.png', 'la_029image45.png', 'la_029image46.png', 'la_029image47.png', 'la_029image48.png', 'la_029image49.png', 'la_029image50.png', 'la_029image51.png', 'la_029image52.png', 'la_029image53.png', 'la_029image54.png', 'la_029image55.png', 'la_029image56.png', 'la_029image57.png', 'la_029image58.png', 'la_029image59.png', 'la_029image60.png', 'la_029image61.png', 'la_029image62.png', 'la_029image63.png', 'la_029image64.png', 'la_029image65.png', 'la_029image66.png', 'la_029image67.png', 'la_029image68.png', 'la_029image69.png', 'la_029image70.png', 'la_029image71.png', 'la_029image72.png', 'la_029image73.png', 'la_029image74.png', 'la_029image75.png', 'la_029image76.png', 'la_029image77.png', 'la_029image78.png', 'la_029image79.png', 'la_029image80.png', 'la_029image81.png', 'la_029image82.png', 'la_029image83.png', 'la_029image84.png', 'la_029image85.png', 'la_029image86.png', 'la_029image87.png', 'la_029image88.png', 'la_029image89.png', 'la_029image90.png', 'la_029image91.png', 'la_029image92.png', 'la_029image93.png', 'la_029image94.png', 'la_029image95.png', 'la_029image96.png', 'la_029image97.png', 'la_029image98.png', 'la_029image99.png', 'la_029image100.png', 'la_029image101.png', 'la_029image102.png', 'la_029image103.png', 'la_029image104.png', 'la_029image105.png', 'la_029image106.png', 'la_029image107.png', 'la_029image108.png', 'la_030image1.png', 'la_030image2.png', 'la_030image3.png', 'la_030image4.png', 'la_030image5.png', 'la_030image6.png', 'la_030image7.png', 'la_030image8.png', 'la_030image9.png', 'la_030image10.png', 'la_030image11.png', 'la_030image12.png', 'la_030image13.png', 'la_030image14.png', 'la_030image15.png', 'la_030image16.png', 'la_030image17.png', 'la_030image18.png', 'la_030image19.png', 'la_030image20.png', 'la_030image21.png', 'la_030image22.png', 'la_030image23.png', 'la_030image24.png', 'la_030image25.png', 'la_030image26.png', 'la_030image27.png', 'la_030image28.png', 'la_030image29.png', 'la_030image30.png', 'la_030image31.png', 'la_030image32.png', 'la_030image33.png', 'la_030image34.png', 'la_030image35.png', 'la_030image36.png', 'la_030image37.png', 'la_030image38.png', 'la_030image39.png', 'la_030image40.png', 'la_030image41.png', 'la_030image42.png', 'la_030image43.png', 'la_030image44.png', 'la_030image45.png', 'la_030image46.png', 'la_030image47.png', 'la_030image48.png', 'la_030image49.png', 'la_030image50.png', 'la_030image51.png', 'la_030image52.png', 'la_030image53.png', 'la_030image54.png', 'la_030image55.png', 'la_030image56.png', 'la_030image57.png', 'la_030image58.png', 'la_030image59.png', 'la_030image60.png', 'la_030image61.png', 'la_030image62.png', 'la_030image63.png', 'la_030image64.png', 'la_030image65.png', 'la_030image66.png', 'la_030image67.png', 'la_030image68.png', 'la_030image69.png', 'la_030image70.png', 'la_030image71.png', 'la_030image72.png', 'la_030image73.png', 'la_030image74.png', 'la_030image75.png', 'la_030image76.png', 'la_030image77.png', 'la_030image78.png', 'la_030image79.png', 'la_030image80.png', 'la_030image81.png', 'la_030image82.png', 'la_030image83.png', 'la_030image84.png', 'la_030image85.png', 'la_030image86.png', 'la_030image87.png', 'la_030image88.png', 'la_030image89.png', 'la_030image90.png', 'la_030image91.png', 'la_030image92.png', 'la_030image93.png', 'la_030image94.png', 'la_030image95.png', 'la_030image96.png', 'la_030image97.png', 'la_030image98.png', 'la_030image99.png', 'la_030image100.png', 'la_030image101.png', 'la_030image102.png', 'la_030image103.png', 'la_030image104.png', 'la_030image105.png', 'la_030image106.png', 'la_030image107.png', 'la_030image108.png', 'la_030image109.png']\n"
          ],
          "name": "stdout"
        }
      ]
    },
    {
      "cell_type": "code",
      "metadata": {
        "id": "rlNCJfYZlQYn",
        "colab_type": "code",
        "colab": {}
      },
      "source": [
        "X = []\n",
        "M = []\n",
        "\n",
        "for image in n:\n",
        "  X.append(cv2.imread(train_dir+image, cv2.IMREAD_GRAYSCALE))"
      ],
      "execution_count": 0,
      "outputs": []
    },
    {
      "cell_type": "code",
      "metadata": {
        "id": "vvqZvtNhlSaW",
        "colab_type": "code",
        "colab": {}
      },
      "source": [
        "train_X = np.asarray(X)"
      ],
      "execution_count": 0,
      "outputs": []
    },
    {
      "cell_type": "code",
      "metadata": {
        "id": "T68DjX3WfS9L",
        "colab_type": "code",
        "outputId": "7db411d1-a681-4c08-b2be-4ae96d958df3",
        "colab": {
          "base_uri": "https://localhost:8080/",
          "height": 34
        }
      },
      "source": [
        "train_X.shape"
      ],
      "execution_count": 0,
      "outputs": [
        {
          "output_type": "execute_result",
          "data": {
            "text/plain": [
              "(2251, 320, 320, 1)"
            ]
          },
          "metadata": {
            "tags": []
          },
          "execution_count": 76
        }
      ]
    },
    {
      "cell_type": "code",
      "metadata": {
        "id": "RWulP8xe2SFW",
        "colab_type": "code",
        "colab": {}
      },
      "source": [
        "train_X = train_X.astype('float32')"
      ],
      "execution_count": 0,
      "outputs": []
    },
    {
      "cell_type": "code",
      "metadata": {
        "id": "-XgXzYpXNcSS",
        "colab_type": "code",
        "colab": {}
      },
      "source": [
        "train_X = train_X.reshape(2251,320,320,1)"
      ],
      "execution_count": 0,
      "outputs": []
    },
    {
      "cell_type": "code",
      "metadata": {
        "id": "nRKl-VO2Lvu6",
        "colab_type": "code",
        "outputId": "06444009-3052-4d52-8e0b-1c1dae3f84f9",
        "colab": {
          "base_uri": "https://localhost:8080/",
          "height": 337
        }
      },
      "source": [
        "from google.colab.patches import cv2_imshow\n",
        "cv2_imshow(train_X[11,:,:,:].reshape(320,320) * 255.0)"
      ],
      "execution_count": 18,
      "outputs": [
        {
          "output_type": "display_data",
          "data": {
            "image/png": "[encoded data removed]",
            "text/plain": [
              "<PIL.Image.Image image mode=L size=320x320 at 0x7FE256B9D588>"
            ]
          },
          "metadata": {
            "tags": []
          }
        }
      ]
    },
    {
      "cell_type": "code",
      "metadata": {
        "id": "14VfOPio22j9",
        "colab_type": "code",
        "colab": {}
      },
      "source": [
        "for i in range(2251):\n",
        "  train_X[i,:,:] /= 255.0"
      ],
      "execution_count": 0,
      "outputs": []
    },
    {
      "cell_type": "code",
      "metadata": {
        "id": "sbaQ4qlY1WEs",
        "colab_type": "code",
        "outputId": "19b5d4c3-8e2f-4744-e9e2-3b6cff59c656",
        "colab": {
          "base_uri": "https://localhost:8080/",
          "height": 34
        }
      },
      "source": [
        "print(np.max(train_X[121,:,:]))"
      ],
      "execution_count": 19,
      "outputs": [
        {
          "output_type": "stream",
          "text": [
            "1.0\n"
          ],
          "name": "stdout"
        }
      ]
    },
    {
      "cell_type": "code",
      "metadata": {
        "id": "fN0uHE8iliu3",
        "colab_type": "code",
        "outputId": "b83d7777-8c9e-4f02-a5b7-92c1dcadfe76",
        "colab": {
          "base_uri": "https://localhost:8080/",
          "height": 34
        }
      },
      "source": [
        "train_X.shape"
      ],
      "execution_count": 0,
      "outputs": [
        {
          "output_type": "execute_result",
          "data": {
            "text/plain": [
              "(2251, 320, 320, 1)"
            ]
          },
          "metadata": {
            "tags": []
          },
          "execution_count": 81
        }
      ]
    },
    {
      "cell_type": "code",
      "metadata": {
        "id": "iicEYh6CuHFT",
        "colab_type": "code",
        "colab": {}
      },
      "source": [
        "fil = os.listdir(mask_dir)"
      ],
      "execution_count": 0,
      "outputs": []
    },
    {
      "cell_type": "code",
      "metadata": {
        "id": "evXeWLAYsYd3",
        "colab_type": "code",
        "colab": {}
      },
      "source": [
        "fil.sort()\n",
        "templist = []\n",
        "sublist = []\n",
        "m = 0\n",
        "start = 0\n",
        "\n",
        "for i in range(len(fil)):\n",
        "    if fil[start][3:6] == fil[i][3:6]:\n",
        "        templist.append(fil[i])\n",
        "    else:\n",
        "        sublist.append('')\n",
        "        sublist[m] = templist.copy()\n",
        "        m+=1\n",
        "        templist.clear()\n",
        "        templist.append(fil[i])\n",
        "        start = i\n",
        "sublist.append('')\n",
        "sublist[m] = templist.copy()\n",
        "\n",
        "######SORTING SECOND PART######\n",
        "for eachlist in sublist:\n",
        "    for i in range(len(eachlist)):\n",
        "        eachlist[i] = eachlist[i].split('.')[0]\n",
        "\n",
        "for ls in sublist:\n",
        "    for i in range(len(ls)):\n",
        "        min = int(ls[i][11:])\n",
        "        minindex = i\n",
        "        for j in range(i+1, len(ls)):\n",
        "            if min > int(ls[j][11:]):\n",
        "                min = int(ls[j][11:])\n",
        "                minindex = j\n",
        "        temp = ls[i]\n",
        "        ls[i] = ls[minindex]\n",
        "        ls[minindex] = temp\n",
        "\n",
        "####ADDDING EXTENSION PNG\n",
        "for x in sublist:\n",
        "    for y in range(len(x)):\n",
        "        x[y] = x[y] + '.png'"
      ],
      "execution_count": 0,
      "outputs": []
    },
    {
      "cell_type": "code",
      "metadata": {
        "id": "pb7yv3ZRsjfI",
        "colab_type": "code",
        "colab": {}
      },
      "source": [
        "N = [] \n",
        "  \n",
        "# function used for removing nested  \n",
        "# lists in python.  \n",
        "def reemovNestings(l): \n",
        "    for i in l: \n",
        "        if type(i) == list: \n",
        "            reemovNestings(i) \n",
        "        else: \n",
        "            N.append(i) "
      ],
      "execution_count": 0,
      "outputs": []
    },
    {
      "cell_type": "code",
      "metadata": {
        "id": "q8Z7vimAsxkw",
        "colab_type": "code",
        "colab": {}
      },
      "source": [
        "reemovNestings(sublist)"
      ],
      "execution_count": 0,
      "outputs": []
    },
    {
      "cell_type": "code",
      "metadata": {
        "id": "vcq71G8qtAB4",
        "colab_type": "code",
        "outputId": "28600322-8198-4120-c4ff-f63d4f02710b",
        "colab": {
          "base_uri": "https://localhost:8080/",
          "height": 34
        }
      },
      "source": [
        "len(N)"
      ],
      "execution_count": 0,
      "outputs": [
        {
          "output_type": "execute_result",
          "data": {
            "text/plain": [
              "2251"
            ]
          },
          "metadata": {
            "tags": []
          },
          "execution_count": 87
        }
      ]
    },
    {
      "cell_type": "code",
      "metadata": {
        "id": "EyTTixSB_i2i",
        "colab_type": "code",
        "colab": {}
      },
      "source": [
        "del M\n",
        "del X"
      ],
      "execution_count": 0,
      "outputs": []
    },
    {
      "cell_type": "code",
      "metadata": {
        "id": "aPANyuUcvu-D",
        "colab_type": "code",
        "colab": {}
      },
      "source": [
        "M = []\n",
        "\n",
        "for image in N:\n",
        "  M.append(cv2.imread(mask_dir+image, cv2.IMREAD_GRAYSCALE))"
      ],
      "execution_count": 0,
      "outputs": []
    },
    {
      "cell_type": "code",
      "metadata": {
        "id": "KWUhJwfEv5KS",
        "colab_type": "code",
        "colab": {}
      },
      "source": [
        "train_Y = np.asarray(M)"
      ],
      "execution_count": 0,
      "outputs": []
    },
    {
      "cell_type": "code",
      "metadata": {
        "id": "pWDlBkcdFaS8",
        "colab_type": "code",
        "colab": {}
      },
      "source": [
        "train_Y = train_Y.reshape(2251, 320, 320, 1)"
      ],
      "execution_count": 0,
      "outputs": []
    },
    {
      "cell_type": "code",
      "metadata": {
        "id": "LMv6AJuY5_h4",
        "colab_type": "code",
        "colab": {}
      },
      "source": [
        "train_Y = train_Y.astype('float32')"
      ],
      "execution_count": 0,
      "outputs": []
    },
    {
      "cell_type": "code",
      "metadata": {
        "id": "read97-CbU6t",
        "colab_type": "code",
        "outputId": "0f2f354b-2a91-4e34-8534-7980f14af567",
        "colab": {
          "base_uri": "https://localhost:8080/",
          "height": 337
        }
      },
      "source": [
        "from google.colab.patches import cv2_imshow\n",
        "cv2_imshow(train_Y[519,:,:,:].reshape(320,320))"
      ],
      "execution_count": 31,
      "outputs": [
        {
          "output_type": "display_data",
          "data": {
            "image/png": "[encoded data removed]",
            "text/plain": [
              "<PIL.Image.Image image mode=L size=320x320 at 0x7FE256B5B4A8>"
            ]
          },
          "metadata": {
            "tags": []
          }
        }
      ]
    },
    {
      "cell_type": "code",
      "metadata": {
        "id": "FFf8tKQ86HM4",
        "colab_type": "code",
        "colab": {}
      },
      "source": [
        "for i in range(2251):\n",
        "  train_Y[i,:,:] /= 255.0"
      ],
      "execution_count": 0,
      "outputs": []
    },
    {
      "cell_type": "code",
      "metadata": {
        "id": "yYqB8eKL6Pe0",
        "colab_type": "code",
        "outputId": "c137419f-827a-43ce-ae4a-2baceb4563c8",
        "colab": {
          "base_uri": "https://localhost:8080/",
          "height": 34
        }
      },
      "source": [
        "print(np.max(train_Y[1223,:,:]))"
      ],
      "execution_count": 33,
      "outputs": [
        {
          "output_type": "stream",
          "text": [
            "1.0\n"
          ],
          "name": "stdout"
        }
      ]
    },
    {
      "cell_type": "code",
      "metadata": {
        "id": "R88CcSa50EtY",
        "colab_type": "code",
        "colab": {}
      },
      "source": [
        "cat_Y = keras.utils.np_utils.to_categorical(y=train_Y)"
      ],
      "execution_count": 0,
      "outputs": []
    },
    {
      "cell_type": "code",
      "metadata": {
        "id": "YNE2hlICr8kU",
        "colab_type": "code",
        "colab": {
          "base_uri": "https://localhost:8080/",
          "height": 34
        },
        "outputId": "c62daa68-3c5f-426c-b702-2f1979d0f249"
      },
      "source": [
        "cat_Y.shape"
      ],
      "execution_count": 38,
      "outputs": [
        {
          "output_type": "execute_result",
          "data": {
            "text/plain": [
              "(2251, 320, 320, 2)"
            ]
          },
          "metadata": {
            "tags": []
          },
          "execution_count": 38
        }
      ]
    },
    {
      "cell_type": "code",
      "metadata": {
        "id": "ICvg0PEV170P",
        "colab_type": "code",
        "colab": {}
      },
      "source": [
        "from sklearn.model_selection import train_test_split\n",
        "\n",
        "X_train, X_test, y_train, y_test = train_test_split(train_X, cat_Y, test_size=0.2, random_state=1)"
      ],
      "execution_count": 0,
      "outputs": []
    },
    {
      "cell_type": "code",
      "metadata": {
        "id": "zX9TEP45wVd0",
        "colab_type": "code",
        "colab": {}
      },
      "source": [
        " X_train, X_val, y_train, y_val = train_test_split(X_train, y_train, test_size=0.2, random_state=1)"
      ],
      "execution_count": 0,
      "outputs": []
    },
    {
      "cell_type": "code",
      "metadata": {
        "id": "zlqEAePhgVg1",
        "colab_type": "code",
        "colab": {
          "base_uri": "https://localhost:8080/",
          "height": 34
        },
        "outputId": "2fe2c200-4af8-46aa-8dd1-2e47de1b6ac5"
      },
      "source": [
        "y_train.shape"
      ],
      "execution_count": 44,
      "outputs": [
        {
          "output_type": "execute_result",
          "data": {
            "text/plain": [
              "(1440, 320, 320, 2)"
            ]
          },
          "metadata": {
            "tags": []
          },
          "execution_count": 44
        }
      ]
    },
    {
      "cell_type": "code",
      "metadata": {
        "id": "viBN81WjyrG2",
        "colab_type": "code",
        "colab": {}
      },
      "source": [
        "  from keras import backend as k\n",
        "  def iou_coef(y_true, y_pred, smooth = 1):\n",
        "    y_true = k.flatten(y_true)\n",
        "    y_pred = k.flatten(y_pred)\n",
        "    intersection = k.sum(y_true * y_pred)\n",
        "    return (2. * intersection + smooth) / (k.sum(y_true) + k.sum(y_pred) + smooth)\n",
        "\n",
        "  \n",
        "  def iou_coef_loss(y_true, y_pred):\n",
        "    return 1-iou_coef(y_true, y_pred)"
      ],
      "execution_count": 0,
      "outputs": []
    },
    {
      "cell_type": "code",
      "metadata": {
        "id": "gAZzoK-H6All",
        "colab_type": "code",
        "colab": {}
      },
      "source": [
        "def unet(weights = None, input_size = (320,320,1)):\n",
        "  \n",
        "  inp = keras.engine.input_layer.Input(input_size)\n",
        "  c1 = Conv2D(64, (3,3), activation='relu', padding='same')(inp)\n",
        "  c1 = BatchNormalization()(c1)\n",
        "  c1 = Conv2D(64, (3,3), activation = 'relu', padding = 'same')(c1)\n",
        "  c1 = BatchNormalization()(c1)\n",
        "  p1 = MaxPooling2D(pool_size=(2,2))(c1)\n",
        "  #p1 = Dropout(0.1)(p1)\n",
        "  \n",
        "  c2 = Conv2D(128, (3,3), activation = 'relu', padding='same')(p1)\n",
        "  c2 = BatchNormalization()(c2)\n",
        "  c2 = Conv2D(128, (3,3), activation = 'relu', padding = 'same')(c2)\n",
        "  c2 = BatchNormalization()(c2)\n",
        "  p2 = MaxPooling2D(pool_size=(2,2))(c2)\n",
        "  p2 = Dropout(0.3)(p2)\n",
        "  \n",
        "  c3 = Conv2D(256, (3,3), activation = 'relu', padding='same')(p2)\n",
        "  c3 = BatchNormalization()(c3)\n",
        "  c3 = Conv2D(256, (3,3), activation = 'relu', padding = 'same')(c3)\n",
        "  c3 = BatchNormalization()(c3)\n",
        "  p3 = MaxPooling2D(pool_size=(2,2))(c3)\n",
        "  #p3 = Dropout(0.1)(p3)\n",
        "  \n",
        "  c4 = Conv2D(512, (3,3), activation = 'relu', padding='same')(p3)\n",
        "  c4 = BatchNormalization()(c4)\n",
        "  c4 = Conv2D(512, (3,3), activation = 'relu', padding = 'same')(c4)\n",
        "  c4 = BatchNormalization()(c4)\n",
        "  p4 = MaxPooling2D(pool_size=(2,2))(c4)\n",
        "  #p4 = Dropout(0.1)(p4)\n",
        "  \n",
        "  c5 = Conv2D(1024, (3,3), activation = 'relu', padding='same')(p4)\n",
        "  c5 = BatchNormalization()(c5)\n",
        "  c5 = Conv2D(1024, (3,3), activation = 'relu', padding = 'same')(c5)\n",
        "  c5 = BatchNormalization()(c5)\n",
        "  #p5 = MaxPooling2D(pool_size=(2,2))(c5)\n",
        "  \n",
        "  u6 = Conv2DTranspose(512, (3,3), activation = 'relu', strides = (2,2), padding = 'same')(c5)\n",
        "  concat6 = concatenate([u6,c4])\n",
        "  c6 = Conv2D(512, (3,3), activation = 'relu', padding = 'same')(concat6)\n",
        "  c6 = BatchNormalization()(c6)\n",
        "  c6 = Conv2D(512, (3,3), activation = 'relu', padding = 'same')(c6)\n",
        "  c6 = BatchNormalization()(c6)\n",
        "  \n",
        "  u7 = Conv2DTranspose(256, (3,3), activation = 'relu', strides = (2,2), padding = 'same')(c6)\n",
        "  concat7 = concatenate([u7,c3])\n",
        "  c7 = Conv2D(256, (3,3), activation = 'relu', padding = 'same')(concat7)\n",
        "  c7 = BatchNormalization()(c7)\n",
        "  c7 = Conv2D(256, (3,3), activation = 'relu', padding = 'same')(c7)\n",
        "  c7 = BatchNormalization()(c7)\n",
        "  \n",
        "  u8 = Conv2DTranspose(128, (3,3), activation = 'relu', strides = (2,2), padding = 'same')(c7)\n",
        "  concat8 = concatenate([u8,c2])\n",
        "  c8 = Conv2D(128, (3,3), activation = 'relu', padding = 'same')(concat8)\n",
        "  c8 = BatchNormalization()(c8)\n",
        "  c8 = Conv2D(128, (3,3), activation = 'relu', padding = 'same')(c8)\n",
        "  c8 = BatchNormalization()(c8)\n",
        "  C8 = Dropout(0.3)(c8)\n",
        "  \n",
        "  u9 = Conv2DTranspose(64, (3,3), activation = 'relu', strides = (2,2), padding = 'same')(c8)\n",
        "  concat9 = concatenate([u9,c1])\n",
        "  c9 = Conv2D(64, (3,3), activation = 'relu', padding = 'same')(concat9)\n",
        "  c9 = BatchNormalization()(c9)\n",
        "  c9 = Conv2D(64, (3,3), activation = 'relu', padding = 'same')(c9)\n",
        "  c9 = BatchNormalization()(c9)\n",
        "  \n",
        "  c10 = Conv2D(2, (1,1), activation = 'sigmoid')(c9)\n",
        "  \n",
        "  model = Model(input=inp, output=c10)   #input passed to this function must come from keras.layers.Input(a tensor), otherwise it will through error\n",
        "  model.compile(optimizer = Adam(), loss = 'categorical_crossentropy', metrics = [iou_coef] )\n",
        "  return model\n",
        "  \n",
        "  "
      ],
      "execution_count": 0,
      "outputs": []
    },
    {
      "cell_type": "code",
      "metadata": {
        "id": "xTYOX3qezCNq",
        "colab_type": "code",
        "outputId": "d06f5415-8997-4dd6-d743-d676002d1d50",
        "colab": {
          "base_uri": "https://localhost:8080/",
          "height": 54
        }
      },
      "source": [
        "model = unet()"
      ],
      "execution_count": 58,
      "outputs": [
        {
          "output_type": "stream",
          "text": [
            "/usr/local/lib/python3.6/dist-packages/ipykernel_launcher.py:69: UserWarning: Update your `Model` call to the Keras 2 API: `Model(inputs=Tensor(\"in..., outputs=Tensor(\"co...)`\n"
          ],
          "name": "stderr"
        }
      ]
    },
    {
      "cell_type": "code",
      "metadata": {
        "id": "4ZUV_6OtzHur",
        "colab_type": "code",
        "outputId": "71f5dd66-c1dd-4d4c-da15-1930c2aad1a3",
        "colab": {
          "base_uri": "https://localhost:8080/",
          "height": 445
        }
      },
      "source": [
        "fit_history = model.fit(x=X_train,y=y_train, validation_data=(X_val,y_val), batch_size = 1, epochs=10)"
      ],
      "execution_count": 59,
      "outputs": [
        {
          "output_type": "stream",
          "text": [
            "WARNING:tensorflow:From /usr/local/lib/python3.6/dist-packages/tensorflow/python/ops/math_grad.py:1250: add_dispatch_support.<locals>.wrapper (from tensorflow.python.ops.array_ops) is deprecated and will be removed in a future version.\n",
            "Instructions for updating:\n",
            "Use tf.where in 2.0, which has the same broadcast rule as np.where\n",
            "Train on 1440 samples, validate on 360 samples\n",
            "Epoch 1/10\n",
            "1440/1440 [==============================] - 277s 193ms/step - loss: 0.0379 - iou_coef: 0.6914 - val_loss: 0.0098 - val_iou_coef: 0.7559\n",
            "Epoch 2/10\n",
            "1440/1440 [==============================] - 268s 186ms/step - loss: 0.0075 - iou_coef: 0.7735 - val_loss: 0.0070 - val_iou_coef: 0.8022\n",
            "Epoch 3/10\n",
            "1440/1440 [==============================] - 268s 186ms/step - loss: 0.0045 - iou_coef: 0.8242 - val_loss: 0.0058 - val_iou_coef: 0.8317\n",
            "Epoch 4/10\n",
            "1440/1440 [==============================] - 268s 186ms/step - loss: 0.0037 - iou_coef: 0.8536 - val_loss: 0.0086 - val_iou_coef: 0.8707\n",
            "Epoch 5/10\n",
            "1440/1440 [==============================] - 269s 187ms/step - loss: 0.0027 - iou_coef: 0.8782 - val_loss: 0.0055 - val_iou_coef: 0.8963\n",
            "Epoch 6/10\n",
            "1440/1440 [==============================] - 268s 186ms/step - loss: 0.0025 - iou_coef: 0.8933 - val_loss: 0.0167 - val_iou_coef: 0.8728\n",
            "Epoch 7/10\n",
            "1440/1440 [==============================] - 269s 187ms/step - loss: 0.0024 - iou_coef: 0.9122 - val_loss: 0.0031 - val_iou_coef: 0.9300\n",
            "Epoch 8/10\n",
            "1440/1440 [==============================] - 269s 187ms/step - loss: 0.0018 - iou_coef: 0.9137 - val_loss: 0.0067 - val_iou_coef: 0.9235\n",
            "Epoch 9/10\n",
            "1440/1440 [==============================] - 269s 187ms/step - loss: 0.0017 - iou_coef: 0.9230 - val_loss: 0.0026 - val_iou_coef: 0.9286\n",
            "Epoch 10/10\n",
            "1440/1440 [==============================] - 269s 187ms/step - loss: 0.0015 - iou_coef: 0.9288 - val_loss: 0.0027 - val_iou_coef: 0.9346\n"
          ],
          "name": "stdout"
        }
      ]
    },
    {
      "cell_type": "code",
      "metadata": {
        "id": "CwgJavOQNeKy",
        "colab_type": "code",
        "outputId": "628b6615-ad7a-40c2-f6b2-16cb7e99e7e6",
        "colab": {
          "base_uri": "https://localhost:8080/",
          "height": 34
        }
      },
      "source": [
        "print(fit_history.history.keys())"
      ],
      "execution_count": 60,
      "outputs": [
        {
          "output_type": "stream",
          "text": [
            "dict_keys(['val_loss', 'val_iou_coef', 'loss', 'iou_coef'])\n"
          ],
          "name": "stdout"
        }
      ]
    },
    {
      "cell_type": "code",
      "metadata": {
        "id": "vYkHBRldNyBr",
        "colab_type": "code",
        "colab": {}
      },
      "source": [
        "import matplotlib.pyplot as plt\n",
        "\n",
        "%matplotlib inline"
      ],
      "execution_count": 0,
      "outputs": []
    },
    {
      "cell_type": "code",
      "metadata": {
        "id": "m8qu9iTKOAOF",
        "colab_type": "code",
        "outputId": "2c6e1334-8013-4148-fd68-7dfb1ea6f9c9",
        "colab": {
          "base_uri": "https://localhost:8080/",
          "height": 286
        }
      },
      "source": [
        "plt.plot(fit_history.history['val_loss'])"
      ],
      "execution_count": 65,
      "outputs": [
        {
          "output_type": "execute_result",
          "data": {
            "text/plain": [
              "[<matplotlib.lines.Line2D at 0x7fe1e6295f28>]"
            ]
          },
          "metadata": {
            "tags": []
          },
          "execution_count": 65
        },
        {
          "output_type": "display_data",
          "data": {
            "image/png": "[encoded data removed]",
            "text/plain": [
              "<Figure size 432x288 with 1 Axes>"
            ]
          },
          "metadata": {
            "tags": []
          }
        }
      ]
    },
    {
      "cell_type": "code",
      "metadata": {
        "id": "fW7AGuxp00Vb",
        "colab_type": "code",
        "colab": {}
      },
      "source": [
        "model.save_weights('unet-weights-updated.h5')"
      ],
      "execution_count": 0,
      "outputs": []
    },
    {
      "cell_type": "code",
      "metadata": {
        "id": "zelqIr-HfVtB",
        "colab_type": "code",
        "colab": {}
      },
      "source": [
        "model.save('unet-model-initial-neg.h5')"
      ],
      "execution_count": 0,
      "outputs": []
    },
    {
      "cell_type": "code",
      "metadata": {
        "id": "10X4KsEykOM2",
        "colab_type": "code",
        "outputId": "a1294013-999b-4bdf-9c3a-bdd6039e908c",
        "colab": {
          "base_uri": "https://localhost:8080/",
          "height": 34
        }
      },
      "source": [
        "pred = model.predict(X_test, batch_size=1, verbose=1)"
      ],
      "execution_count": 67,
      "outputs": [
        {
          "output_type": "stream",
          "text": [
            "451/451 [==============================] - 27s 60ms/step\n"
          ],
          "name": "stdout"
        }
      ]
    },
    {
      "cell_type": "code",
      "metadata": {
        "id": "33mFLvzNpezj",
        "colab_type": "code",
        "outputId": "f39cf4b4-689f-4d36-ba17-ca2738e76fb2",
        "colab": {
          "base_uri": "https://localhost:8080/",
          "height": 34
        }
      },
      "source": [
        "pred_new.shape"
      ],
      "execution_count": 77,
      "outputs": [
        {
          "output_type": "execute_result",
          "data": {
            "text/plain": [
              "(451, 320, 320)"
            ]
          },
          "metadata": {
            "tags": []
          },
          "execution_count": 77
        }
      ]
    },
    {
      "cell_type": "code",
      "metadata": {
        "id": "riHRepXFPMYC",
        "colab_type": "code",
        "colab": {}
      },
      "source": [
        "#inverse of np_util.to_categorical\n",
        "pred_new = np.argmax(pred, axis=3, out=None)"
      ],
      "execution_count": 0,
      "outputs": []
    },
    {
      "cell_type": "code",
      "metadata": {
        "id": "oxNnvkv17KiS",
        "colab_type": "code",
        "colab": {}
      },
      "source": [
        ""
      ],
      "execution_count": 0,
      "outputs": []
    },
    {
      "cell_type": "code",
      "metadata": {
        "id": "tBUVpRIy6j-t",
        "colab_type": "code",
        "colab": {}
      },
      "source": [
        "pred_new.reshape(451,320,320,1)"
      ],
      "execution_count": 0,
      "outputs": []
    },
    {
      "cell_type": "code",
      "metadata": {
        "id": "-GTJ8o-GuRWU",
        "colab_type": "code",
        "colab": {}
      },
      "source": [
        "from google.colab.patches import cv2_imshow"
      ],
      "execution_count": 0,
      "outputs": []
    },
    {
      "cell_type": "code",
      "metadata": {
        "id": "-z1I9m7WBxWM",
        "colab_type": "code",
        "colab": {
          "base_uri": "https://localhost:8080/",
          "height": 442
        },
        "outputId": "80bcb02d-bbe0-401f-dd70-4462ae70503a"
      },
      "source": [
        "from google.colab import files\n",
        "files.download('unet-weights-updated.h5')"
      ],
      "execution_count": 92,
      "outputs": [
        {
          "output_type": "stream",
          "text": [
            "----------------------------------------\n",
            "Exception happened during processing of request from ('::ffff:127.0.0.1', 42606, 0, 0)\n",
            "Traceback (most recent call last):\n",
            "  File \"/usr/lib/python3.6/socketserver.py\", line 320, in _handle_request_noblock\n",
            "    self.process_request(request, client_address)\n",
            "  File \"/usr/lib/python3.6/socketserver.py\", line 351, in process_request\n",
            "    self.finish_request(request, client_address)\n",
            "  File \"/usr/lib/python3.6/socketserver.py\", line 364, in finish_request\n",
            "    self.RequestHandlerClass(request, client_address, self)\n",
            "  File \"/usr/lib/python3.6/socketserver.py\", line 724, in __init__\n",
            "    self.handle()\n",
            "  File \"/usr/lib/python3.6/http/server.py\", line 418, in handle\n",
            "    self.handle_one_request()\n",
            "  File \"/usr/lib/python3.6/http/server.py\", line 406, in handle_one_request\n",
            "    method()\n",
            "  File \"/usr/lib/python3.6/http/server.py\", line 639, in do_GET\n",
            "    self.copyfile(f, self.wfile)\n",
            "  File \"/usr/lib/python3.6/http/server.py\", line 800, in copyfile\n",
            "    shutil.copyfileobj(source, outputfile)\n",
            "  File \"/usr/lib/python3.6/shutil.py\", line 82, in copyfileobj\n",
            "    fdst.write(buf)\n",
            "  File \"/usr/lib/python3.6/socketserver.py\", line 803, in write\n",
            "    self._sock.sendall(b)\n",
            "ConnectionResetError: [Errno 104] Connection reset by peer\n",
            "----------------------------------------\n"
          ],
          "name": "stderr"
        }
      ]
    },
    {
      "cell_type": "code",
      "metadata": {
        "id": "pvg8L16eTDH7",
        "colab_type": "code",
        "outputId": "29c3bd21-e250-4c45-91b7-5fd79ed194ea",
        "colab": {
          "base_uri": "https://localhost:8080/",
          "height": 337
        }
      },
      "source": [
        "cv2_imshow((pred_new[13,:,:]*255).astype('uint8'))"
      ],
      "execution_count": 85,
      "outputs": [
        {
          "output_type": "display_data",
          "data": {
            "image/png": "[encoded data removed]",
            "text/plain": [
              "<PIL.Image.Image image mode=L size=320x320 at 0x7FE22974B0F0>"
            ]
          },
          "metadata": {
            "tags": []
          }
        }
      ]
    },
    {
      "cell_type": "code",
      "metadata": {
        "id": "pauDboAz9SuR",
        "colab_type": "code",
        "colab": {}
      },
      "source": [
        "for i in range(451):\n",
        "  predicted_img[i,:,:] = (pred_new[i,:,:]*255).astype('uint8')"
      ],
      "execution_count": 0,
      "outputs": []
    },
    {
      "cell_type": "code",
      "metadata": {
        "id": "7UXrXhNZo-ZT",
        "colab_type": "code",
        "colab": {}
      },
      "source": [
        "from keras import backend as kk"
      ],
      "execution_count": 0,
      "outputs": []
    },
    {
      "cell_type": "code",
      "metadata": {
        "id": "I_ACGCF8jclH",
        "colab_type": "code",
        "colab": {
          "base_uri": "https://localhost:8080/",
          "height": 34
        },
        "outputId": "84c92187-d42b-4352-89ae-6e573be2f11b"
      },
      "source": [
        ""
      ],
      "execution_count": 141,
      "outputs": [
        {
          "output_type": "execute_result",
          "data": {
            "text/plain": [
              "(320, 320)"
            ]
          },
          "metadata": {
            "tags": []
          },
          "execution_count": 141
        }
      ]
    },
    {
      "cell_type": "code",
      "metadata": {
        "id": "xmgihAH0jCx0",
        "colab_type": "code",
        "colab": {
          "base_uri": "https://localhost:8080/",
          "height": 180
        },
        "outputId": "8d55963e-2b41-4d85-9adc-12a31eee4ca2"
      },
      "source": [
        "for i in range(452):\n",
        "  y_testn[i,:,:] = (y_testn[i,:,:]*255.0).astype('uint8')"
      ],
      "execution_count": 148,
      "outputs": [
        {
          "output_type": "error",
          "ename": "IndexError",
          "evalue": "ignored",
          "traceback": [
            "\u001b[0;31m---------------------------------------------------------------------------\u001b[0m",
            "\u001b[0;31mIndexError\u001b[0m                                Traceback (most recent call last)",
            "\u001b[0;32m<ipython-input-148-d462a6ee4b64>\u001b[0m in \u001b[0;36m<module>\u001b[0;34m()\u001b[0m\n\u001b[1;32m      1\u001b[0m \u001b[0;32mfor\u001b[0m \u001b[0mi\u001b[0m \u001b[0;32min\u001b[0m \u001b[0mrange\u001b[0m\u001b[0;34m(\u001b[0m\u001b[0;36m452\u001b[0m\u001b[0;34m)\u001b[0m\u001b[0;34m:\u001b[0m\u001b[0;34m\u001b[0m\u001b[0;34m\u001b[0m\u001b[0m\n\u001b[0;32m----> 2\u001b[0;31m   \u001b[0my_testn\u001b[0m\u001b[0;34m[\u001b[0m\u001b[0mi\u001b[0m\u001b[0;34m,\u001b[0m\u001b[0;34m:\u001b[0m\u001b[0;34m,\u001b[0m\u001b[0;34m:\u001b[0m\u001b[0;34m]\u001b[0m \u001b[0;34m=\u001b[0m \u001b[0;34m(\u001b[0m\u001b[0my_testn\u001b[0m\u001b[0;34m[\u001b[0m\u001b[0mi\u001b[0m\u001b[0;34m,\u001b[0m\u001b[0;34m:\u001b[0m\u001b[0;34m,\u001b[0m\u001b[0;34m:\u001b[0m\u001b[0;34m]\u001b[0m\u001b[0;34m*\u001b[0m\u001b[0;36m255.0\u001b[0m\u001b[0;34m)\u001b[0m\u001b[0;34m.\u001b[0m\u001b[0mastype\u001b[0m\u001b[0;34m(\u001b[0m\u001b[0;34m'uint8'\u001b[0m\u001b[0;34m)\u001b[0m\u001b[0;34m\u001b[0m\u001b[0;34m\u001b[0m\u001b[0m\n\u001b[0m",
            "\u001b[0;31mIndexError\u001b[0m: too many indices for array"
          ]
        }
      ]
    },
    {
      "cell_type": "code",
      "metadata": {
        "id": "nF7LHlD5kX7u",
        "colab_type": "code",
        "colab": {
          "base_uri": "https://localhost:8080/",
          "height": 34
        },
        "outputId": "8adddf6b-4d97-430e-9078-50e7b60200e4"
      },
      "source": [
        "y_testn.shape"
      ],
      "execution_count": 160,
      "outputs": [
        {
          "output_type": "execute_result",
          "data": {
            "text/plain": [
              "(451, 320, 320)"
            ]
          },
          "metadata": {
            "tags": []
          },
          "execution_count": 160
        }
      ]
    },
    {
      "cell_type": "code",
      "metadata": {
        "id": "tKCe21mQZISK",
        "colab_type": "code",
        "colab": {}
      },
      "source": [
        "X_test = X_test.reshape(451,320,320)"
      ],
      "execution_count": 0,
      "outputs": []
    },
    {
      "cell_type": "code",
      "metadata": {
        "id": "cNuyOGQrF-5p",
        "colab_type": "code",
        "colab": {}
      },
      "source": [
        "for i in range(451):\n",
        "  imageio.imwrite(str('test_x' + str(i) + '.png'), ((X_test[i,:,:]*255.0).astype('uint8')))"
      ],
      "execution_count": 0,
      "outputs": []
    },
    {
      "cell_type": "code",
      "metadata": {
        "id": "CuX-ssWrHNkr",
        "colab_type": "code",
        "colab": {}
      },
      "source": [
        "for i in range(334,451):\n",
        "  files.download(str('test_x' + str(i) + '.png'))"
      ],
      "execution_count": 0,
      "outputs": []
    },
    {
      "cell_type": "code",
      "metadata": {
        "id": "iFlULmjMHfo8",
        "colab_type": "code",
        "colab": {}
      },
      "source": [
        "y_testn = np.argmax(y_test, axis=3, out=None)"
      ],
      "execution_count": 0,
      "outputs": []
    },
    {
      "cell_type": "code",
      "metadata": {
        "id": "BtIq24AUPCS-",
        "colab_type": "code",
        "colab": {
          "base_uri": "https://localhost:8080/",
          "height": 34
        },
        "outputId": "46d51778-fd4b-4c51-d7a6-ade69a466cf9"
      },
      "source": [
        "y_testn.shape"
      ],
      "execution_count": 153,
      "outputs": [
        {
          "output_type": "execute_result",
          "data": {
            "text/plain": [
              "(451, 320, 320)"
            ]
          },
          "metadata": {
            "tags": []
          },
          "execution_count": 153
        }
      ]
    },
    {
      "cell_type": "code",
      "metadata": {
        "id": "Z5gaaclAPEpB",
        "colab_type": "code",
        "colab": {}
      },
      "source": [
        "y_testn = y_testn.reshape(451,320,320)"
      ],
      "execution_count": 0,
      "outputs": []
    },
    {
      "cell_type": "code",
      "metadata": {
        "id": "k_0m8n1SNW3S",
        "colab_type": "code",
        "colab": {}
      },
      "source": [
        "for i in range(451):\n",
        "  imageio.imwrite(str('test_y' + str(i) + '.png'), ((y_testn[i,:,:]*255.0).astype('uint8')))"
      ],
      "execution_count": 0,
      "outputs": []
    },
    {
      "cell_type": "code",
      "metadata": {
        "id": "kPMz4-79OsHl",
        "colab_type": "code",
        "colab": {}
      },
      "source": [
        "for i in range(451):\n",
        "  files.download(str('test_y' + str(i) + '.png'))"
      ],
      "execution_count": 0,
      "outputs": []
    },
    {
      "cell_type": "code",
      "metadata": {
        "id": "onajV9MqYELX",
        "colab_type": "code",
        "colab": {}
      },
      "source": [
        "y_true = []\n",
        "\n",
        "for i in range(451):\n",
        "  y_true.append(cv2.imread(str('test_y' +str(i)+ '.png'), cv2.IMREAD_GRAYSCALE))"
      ],
      "execution_count": 0,
      "outputs": []
    },
    {
      "cell_type": "code",
      "metadata": {
        "id": "ClkAvXNfwUrb",
        "colab_type": "code",
        "colab": {
          "base_uri": "https://localhost:8080/",
          "height": 34
        },
        "outputId": "a11fd619-b6f1-44f9-de5a-e21db7ce0192"
      },
      "source": [
        "y_true = np.asarray(y_true)\n",
        "y_true.shape"
      ],
      "execution_count": 45,
      "outputs": [
        {
          "output_type": "execute_result",
          "data": {
            "text/plain": [
              "(451, 320, 320)"
            ]
          },
          "metadata": {
            "tags": []
          },
          "execution_count": 45
        }
      ]
    },
    {
      "cell_type": "code",
      "metadata": {
        "id": "LKEZsRUhwgVQ",
        "colab_type": "code",
        "colab": {}
      },
      "source": [
        "y_pred = []\n",
        "\n",
        "for i in range(451):\n",
        "  y_pred.append(cv2.imread(str('pred' +str(i)+ '.png'), cv2.IMREAD_GRAYSCALE))"
      ],
      "execution_count": 0,
      "outputs": []
    },
    {
      "cell_type": "code",
      "metadata": {
        "id": "zIorflnWw644",
        "colab_type": "code",
        "colab": {
          "base_uri": "https://localhost:8080/",
          "height": 34
        },
        "outputId": "e97007e4-4894-4263-8601-c8c20e786ac5"
      },
      "source": [
        "y_pred = np.asarray(y_pred)\n",
        "y_pred.shape\n",
        "\n"
      ],
      "execution_count": 47,
      "outputs": [
        {
          "output_type": "execute_result",
          "data": {
            "text/plain": [
              "(451, 320, 320)"
            ]
          },
          "metadata": {
            "tags": []
          },
          "execution_count": 47
        }
      ]
    },
    {
      "cell_type": "code",
      "metadata": {
        "id": "Wqj1mhpKzYIV",
        "colab_type": "code",
        "colab": {}
      },
      "source": [
        "y_true = y_true.astype('float32')\n",
        "y_pred = y_pred.astype('float32')"
      ],
      "execution_count": 0,
      "outputs": []
    },
    {
      "cell_type": "code",
      "metadata": {
        "id": "wWXysrMOx7iT",
        "colab_type": "code",
        "colab": {}
      },
      "source": [
        "for i in range(451):\n",
        "  y_true[i,:,:] /= 255.0\n",
        "  y_pred[i,:,:] /= 255.0"
      ],
      "execution_count": 0,
      "outputs": []
    },
    {
      "cell_type": "code",
      "metadata": {
        "id": "wdjrKvn-xAkF",
        "colab_type": "code",
        "colab": {}
      },
      "source": [
        "temp = 0\n",
        "for i in range(451):\n",
        "  temp += iou_coef(((y_true[i,:,:])),(y_pred[i,:,:]))\n",
        "a = kk.eval(temp)\n",
        "#y = kk.eval(y)"
      ],
      "execution_count": 0,
      "outputs": []
    },
    {
      "cell_type": "code",
      "metadata": {
        "id": "SDRSTE0g0FU9",
        "colab_type": "code",
        "colab": {
          "base_uri": "https://localhost:8080/",
          "height": 34
        },
        "outputId": "d13a63ec-c4e4-434c-8f45-5f7e7a5fbd9e"
      },
      "source": [
        "a/451"
      ],
      "execution_count": 67,
      "outputs": [
        {
          "output_type": "execute_result",
          "data": {
            "text/plain": [
              "0.7870172809338623"
            ]
          },
          "metadata": {
            "tags": []
          },
          "execution_count": 67
        }
      ]
    },
    {
      "cell_type": "code",
      "metadata": {
        "id": "fSmc9uGpxiAd",
        "colab_type": "code",
        "colab": {
          "base_uri": "https://localhost:8080/",
          "height": 34
        },
        "outputId": "2b1be0f8-6813-4672-9b52-3aed630b2ad0"
      },
      "source": [
        "np.max(y_true[2,:,:])"
      ],
      "execution_count": 50,
      "outputs": [
        {
          "output_type": "execute_result",
          "data": {
            "text/plain": [
              "1.0"
            ]
          },
          "metadata": {
            "tags": []
          },
          "execution_count": 50
        }
      ]
    },
    {
      "cell_type": "code",
      "metadata": {
        "id": "ybRb6fZJywq4",
        "colab_type": "code",
        "colab": {}
      },
      "source": [
        ""
      ],
      "execution_count": 0,
      "outputs": []
    }
  ]
}