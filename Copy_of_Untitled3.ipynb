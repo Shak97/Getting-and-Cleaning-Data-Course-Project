{
  "nbformat": 4,
  "nbformat_minor": 0,
  "metadata": {
    "colab": {
      "name": "Copy of Untitled3.ipynb",
      "version": "0.3.2",
      "provenance": [],
      "collapsed_sections": [],
      "include_colab_link": true
    },
    "kernelspec": {
      "name": "python3",
      "display_name": "Python 3"
    }
  },
  "cells": [
    {
      "cell_type": "markdown",
      "metadata": {
        "id": "view-in-github",
        "colab_type": "text"
      },
      "source": [
        "<a href=\"https://colab.research.google.com/github/Shak97/Getting-and-Cleaning-Data-Course-Project/blob/master/Copy_of_Untitled3.ipynb\" target=\"_parent\"><img src=\"https://colab.research.google.com/assets/colab-badge.svg\" alt=\"Open In Colab\"/></a>"
      ]
    },
    {
      "cell_type": "code",
      "metadata": {
        "id": "5YDAq5lRzzpV",
        "colab_type": "code",
        "colab": {}
      },
      "source": [
        "import numpy as np\n",
        "import matplotlib.pyplot as plt\n",
        "import keras\n",
        "from keras.preprocessing.image import ImageDataGenerator\n",
        "from keras.models import Sequential, Model\n",
        "from keras.layers import Activation, Dropout, concatenate\n",
        "from keras.layers.normalization import BatchNormalization\n",
        "from keras.layers.convolutional import *\n",
        "from keras.layers.core import Dense, Flatten\n",
        "from keras.optimizers import Adam\n",
        "import itertools\n",
        "import os"
      ],
      "execution_count": 0,
      "outputs": []
    },
    {
      "cell_type": "code",
      "metadata": {
        "id": "QJUh4mNb493n",
        "colab_type": "code",
        "colab": {}
      },
      "source": [
        "from keras import backend as K"
      ],
      "execution_count": 0,
      "outputs": []
    },
    {
      "cell_type": "code",
      "metadata": {
        "id": "ZZB-pFfiM91q",
        "colab_type": "code",
        "colab": {}
      },
      "source": [
        ""
      ],
      "execution_count": 0,
      "outputs": []
    },
    {
      "cell_type": "code",
      "metadata": {
        "id": "A0lLJdVEM_l9",
        "colab_type": "code",
        "outputId": "c67ff95c-8b9b-4b62-f360-931f0c40e831",
        "colab": {
          "base_uri": "https://localhost:8080/",
          "height": 122
        }
      },
      "source": [
        "from google.colab import drive\n",
        "drive.mount('/content/drive')"
      ],
      "execution_count": 0,
      "outputs": [
        {
          "output_type": "stream",
          "text": [
            "Go to this URL in a browser: https://accounts.google.com/o/oauth2/auth?client_id=947318989803-6bn6qk8qdgf4n4g3pfee6491hc0brc4i.apps.googleusercontent.com&redirect_uri=urn%3Aietf%3Awg%3Aoauth%3A2.0%3Aoob&scope=email%20https%3A%2F%2Fwww.googleapis.com%2Fauth%2Fdocs.test%20https%3A%2F%2Fwww.googleapis.com%2Fauth%2Fdrive%20https%3A%2F%2Fwww.googleapis.com%2Fauth%2Fdrive.photos.readonly%20https%3A%2F%2Fwww.googleapis.com%2Fauth%2Fpeopleapi.readonly&response_type=code\n",
            "\n",
            "Enter your authorization code:\n",
            "··········\n",
            "Mounted at /content/drive\n"
          ],
          "name": "stdout"
        }
      ]
    },
    {
      "cell_type": "code",
      "metadata": {
        "id": "CzDM4iO5Nshj",
        "colab_type": "code",
        "colab": {}
      },
      "source": [
        "import os"
      ],
      "execution_count": 0,
      "outputs": []
    },
    {
      "cell_type": "code",
      "metadata": {
        "id": "qWpOgnQUNe-v",
        "colab_type": "code",
        "colab": {}
      },
      "source": [
        "import cv2\n",
        "\n",
        "def data_gen(img_folder, mask_folder, batch_size):\n",
        "  c = 0\n",
        "  n = os.listdir(img_folder) #List of training images\n",
        "  #random.shuffle(n)\n",
        "  \n",
        "  while (True):\n",
        "    img = np.zeros((batch_size, 320, 320, 1)).astype('float')\n",
        "    mask = np.zeros((batch_size, 320, 320, 1)).astype('float')\n",
        "\n",
        "    for i in range(c, c+batch_size): #initially from 0 to 16, c = 0. \n",
        "\n",
        "      train_img = cv2.imread(img_folder+'/'+n[i])/255.\n",
        "      train_img =  cv2.resize(train_img, (320, 320))# Read an image from folder and resize\n",
        "      \n",
        "      img[i-c] = train_img #add to array - img[0], img[1], and so on.\n",
        "                                                   \n",
        "\n",
        "      train_mask = cv2.imread(mask_folder+'/'+n[i], cv2.IMREAD_GRAYSCALE)/255.\n",
        "      train_mask = cv2.resize(train_mask, (320, 320))\n",
        "      train_mask = train_mask.reshape(320, 320, 1) # Add extra dimension for parity with train_img size [512 * 512 * 3]\n",
        "\n",
        "      mask[i-c] = train_mask\n",
        "\n",
        "    c+=batch_size\n",
        "    if(c+batch_size>=len(os.listdir(img_folder))):\n",
        "      c=0\n",
        "      random.shuffle(n)\n",
        "                  # print \"randomizing again\"\n",
        "    yield img, mask"
      ],
      "execution_count": 0,
      "outputs": []
    },
    {
      "cell_type": "code",
      "metadata": {
        "id": "h2B0wwziOM9X",
        "colab_type": "code",
        "colab": {}
      },
      "source": [
        "train_frame_path = '/content/drive/My Drive/h_segmentation/train_image/images/'\n",
        "train_mask_path = '/content/drive/My Drive/h_segmentation/train_mask/labels/'\n",
        "\n",
        "\n",
        "# Train the model\n",
        "train_gen = data_gen(train_frame_path,train_mask_path, batch_size = 2251)"
      ],
      "execution_count": 0,
      "outputs": []
    },
    {
      "cell_type": "code",
      "metadata": {
        "id": "r8efI8kXOsXr",
        "colab_type": "code",
        "outputId": "664467c9-a6e6-4778-9cfe-33ea1deaf3c5",
        "colab": {
          "base_uri": "https://localhost:8080/",
          "height": 34
        }
      },
      "source": [
        "train_gen"
      ],
      "execution_count": 0,
      "outputs": [
        {
          "output_type": "execute_result",
          "data": {
            "text/plain": [
              "<generator object data_gen at 0x7f84d3c54518>"
            ]
          },
          "metadata": {
            "tags": []
          },
          "execution_count": 151
        }
      ]
    },
    {
      "cell_type": "code",
      "metadata": {
        "id": "2Lb7iWS3NAh9",
        "colab_type": "code",
        "outputId": "311d81fb-1c4c-42e2-eaf3-29bf876a014a",
        "colab": {
          "base_uri": "https://localhost:8080/",
          "height": 34
        }
      },
      "source": [
        "train_image = ImageDataGenerator(rescale=1./255).flow_from_directory('/content/drive/My Drive/h_segmentation/train_image/',batch_size = 2251, target_size = (320,320), seed = 3)"
      ],
      "execution_count": 0,
      "outputs": [
        {
          "output_type": "stream",
          "text": [
            "Found 2251 images belonging to 1 classes.\n"
          ],
          "name": "stdout"
        }
      ]
    },
    {
      "cell_type": "code",
      "metadata": {
        "id": "XSo3NQluQD5F",
        "colab_type": "code",
        "outputId": "531aa270-e035-4f3b-aa33-631443721b52",
        "colab": {
          "base_uri": "https://localhost:8080/",
          "height": 34
        }
      },
      "source": [
        "train_image"
      ],
      "execution_count": 0,
      "outputs": [
        {
          "output_type": "execute_result",
          "data": {
            "text/plain": [
              "<keras_preprocessing.image.directory_iterator.DirectoryIterator at 0x7f84ce6ec550>"
            ]
          },
          "metadata": {
            "tags": []
          },
          "execution_count": 152
        }
      ]
    },
    {
      "cell_type": "code",
      "metadata": {
        "id": "Nmo6z84jPA_q",
        "colab_type": "code",
        "outputId": "21f4f1b7-9ae2-45f6-a2c1-3edee1d40ccb",
        "colab": {
          "base_uri": "https://localhost:8080/",
          "height": 34
        }
      },
      "source": [
        "train_mask = ImageDataGenerator(rescale=1./255).flow_from_directory('/content/drive/My Drive/h_segmentation/train_mask/',batch_size=2251, target_size = (320,320), seed = 3)"
      ],
      "execution_count": 0,
      "outputs": [
        {
          "output_type": "stream",
          "text": [
            "Found 2251 images belonging to 1 classes.\n"
          ],
          "name": "stdout"
        }
      ]
    },
    {
      "cell_type": "code",
      "metadata": {
        "id": "3AjQ8QeV-V4C",
        "colab_type": "code",
        "colab": {}
      },
      "source": [
        ""
      ],
      "execution_count": 0,
      "outputs": []
    },
    {
      "cell_type": "code",
      "metadata": {
        "id": "_JbY4PAuSFXw",
        "colab_type": "code",
        "colab": {}
      },
      "source": [
        "train_generator = zip(train_image, train_mask)"
      ],
      "execution_count": 0,
      "outputs": []
    },
    {
      "cell_type": "code",
      "metadata": {
        "id": "2sZ8ebfZSdfT",
        "colab_type": "code",
        "colab": {}
      },
      "source": [
        "def unet(weights = None, input_size = (320,320,1)):\n",
        "  \n",
        "  inp = keras.engine.input_layer.Input(input_size)\n",
        "  c1 = Conv2D(64, (3,3), activation='relu', padding='same')(inp)\n",
        "  c1 = BatchNormalization()(c1)\n",
        "  c1 = Conv2D(64, (3,3), activation = 'relu', padding = 'same')(c1)\n",
        "  c1 = BatchNormalization()(c1)\n",
        "  p1 = MaxPooling2D(pool_size=(2,2))(c1)\n",
        "  #p1 = Dropout(0.1)(p1)\n",
        "  \n",
        "  c2 = Conv2D(128, (3,3), activation = 'relu', padding='same')(p1)\n",
        "  c2 = BatchNormalization()(c2)\n",
        "  c2 = Conv2D(128, (3,3), activation = 'relu', padding = 'same')(c2)\n",
        "  c2 = BatchNormalization()(c2)\n",
        "  p2 = MaxPooling2D(pool_size=(2,2))(c2)\n",
        "  #p2 = Dropout(0.1)(p2)\n",
        "  \n",
        "  c3 = Conv2D(256, (3,3), activation = 'relu', padding='same')(p2)\n",
        "  c3 = BatchNormalization()(c3)\n",
        "  c3 = Conv2D(256, (3,3), activation = 'relu', padding = 'same')(c3)\n",
        "  c3 = BatchNormalization()(c3)\n",
        "  p3 = MaxPooling2D(pool_size=(2,2))(c3)\n",
        "  #p3 = Dropout(0.1)(p3)\n",
        "  \n",
        "  c4 = Conv2D(512, (3,3), activation = 'relu', padding='same')(p3)\n",
        "  c4 = BatchNormalization()(c4)\n",
        "  c4 = Conv2D(512, (3,3), activation = 'relu', padding = 'same')(c4)\n",
        "  c4 = BatchNormalization()(c4)\n",
        "  p4 = MaxPooling2D(pool_size=(2,2))(c4)\n",
        "  #p4 = Dropout(0.1)(p4)\n",
        "  \n",
        "  c5 = Conv2D(1024, (3,3), activation = 'relu', padding='same')(p4)\n",
        "  c5 = BatchNormalization()(c5)\n",
        "  c5 = Conv2D(1024, (3,3), activation = 'relu', padding = 'same')(c5)\n",
        "  c5 = BatchNormalization()(c5)\n",
        "  #p5 = MaxPooling2D(pool_size=(2,2))(c5)\n",
        "  \n",
        "  u6 = Conv2DTranspose(512, (3,3), activation = 'relu', strides = (2,2), padding = 'same')(c5)\n",
        "  concat6 = concatenate([u6,c4])\n",
        "  c6 = Conv2D(512, (3,3), activation = 'relu', padding = 'same')(concat6)\n",
        "  c6 = BatchNormalization()(c6)\n",
        "  c6 = Conv2D(512, (3,3), activation = 'relu', padding = 'same')(c6)\n",
        "  c6 = BatchNormalization()(c6)\n",
        "  \n",
        "  u7 = Conv2DTranspose(256, (3,3), activation = 'relu', strides = (2,2), padding = 'same')(c6)\n",
        "  concat7 = concatenate([u7,c3])\n",
        "  c7 = Conv2D(256, (3,3), activation = 'relu', padding = 'same')(concat7)\n",
        "  c7 = BatchNormalization()(c7)\n",
        "  c7 = Conv2D(256, (3,3), activation = 'relu', padding = 'same')(c7)\n",
        "  c7 = BatchNormalization()(c7)\n",
        "  \n",
        "  u8 = Conv2DTranspose(128, (3,3), activation = 'relu', strides = (2,2), padding = 'same')(c7)\n",
        "  concat8 = concatenate([u8,c2])\n",
        "  c8 = Conv2D(128, (3,3), activation = 'relu', padding = 'same')(concat8)\n",
        "  c8 = BatchNormalization()(c8)\n",
        "  c8 = Conv2D(128, (3,3), activation = 'relu', padding = 'same')(c8)\n",
        "  c8 = BatchNormalization()(c8)\n",
        "  \n",
        "  u9 = Conv2DTranspose(64, (3,3), activation = 'relu', strides = (2,2), padding = 'same')(c8)\n",
        "  concat9 = concatenate([u9,c1])\n",
        "  c9 = Conv2D(64, (3,3), activation = 'relu', padding = 'same')(concat9)\n",
        "  c9 = BatchNormalization()(c9)\n",
        "  c9 = Conv2D(64, (3,3), activation = 'relu', padding = 'same')(c9)\n",
        "  c9 = BatchNormalization()(c9)\n",
        "  \n",
        "  c10 = Conv2D(1, (1,1), activation = 'sigmoid')(c9)\n",
        "  \n",
        "  model = Model(input=inp, output=c10)   #input passed to this function must come from keras.layers.Input(a tensor), otherwise it will through error\n",
        "  return model\n",
        "  \n",
        "  \n",
        "  \n",
        "  \n",
        "  \n",
        "  "
      ],
      "execution_count": 0,
      "outputs": []
    },
    {
      "cell_type": "code",
      "metadata": {
        "id": "5hgyZOzawVXd",
        "colab_type": "code",
        "colab": {}
      },
      "source": [
        "  def iou_mat(y_true, y_pred, smooth = 1):\n",
        "    intersection = K.sum(K.abs(y_true * y_pred), axis=-1)\n",
        "    union = K.sum(y_true,-1) + K.sum(y_pred,-1) - intersection\n",
        "    iou = (intersection + smooth) / ( union + smooth)\n",
        "    return iou\n",
        "  \n",
        "  def iou_coef_loss(y_true, y_pred):\n",
        "    return 1-iou_mat(y_true, y_pred)"
      ],
      "execution_count": 0,
      "outputs": []
    },
    {
      "cell_type": "code",
      "metadata": {
        "id": "mQHnucJqws3M",
        "colab_type": "code",
        "outputId": "5c77a279-57f4-465e-d991-ff2358cf1aae",
        "colab": {
          "base_uri": "https://localhost:8080/",
          "height": 54
        }
      },
      "source": [
        "model = unet()"
      ],
      "execution_count": 0,
      "outputs": [
        {
          "output_type": "stream",
          "text": [
            "/usr/local/lib/python3.6/dist-packages/ipykernel_launcher.py:68: UserWarning: Update your `Model` call to the Keras 2 API: `Model(inputs=Tensor(\"in..., outputs=Tensor(\"co...)`\n"
          ],
          "name": "stderr"
        }
      ]
    },
    {
      "cell_type": "code",
      "metadata": {
        "id": "0_y70WFu1aXr",
        "colab_type": "code",
        "colab": {}
      },
      "source": [
        "model.compile(optimizer=Adam(), loss=iou_coef_loss, metrics=[iou_mat])"
      ],
      "execution_count": 0,
      "outputs": []
    },
    {
      "cell_type": "code",
      "metadata": {
        "id": "v3OOjq2s39_0",
        "colab_type": "code",
        "outputId": "cdecd862-ee1e-4310-d57d-d11e806d07db",
        "colab": {
          "base_uri": "https://localhost:8080/",
          "height": 88
        }
      },
      "source": [
        "model.fit_generator(train_generator, steps_per_epoch = 2251, epochs = 15, verbose=2)"
      ],
      "execution_count": 0,
      "outputs": [
        {
          "output_type": "stream",
          "text": [
            "Epoch 1/15\n"
          ],
          "name": "stdout"
        },
        {
          "output_type": "stream",
          "text": [
            "/usr/local/lib/python3.6/dist-packages/keras/utils/data_utils.py:709: UserWarning: An input could not be retrieved. It could be because a worker has died.We do not have any information on the lost sample.\n",
            "  UserWarning)\n"
          ],
          "name": "stderr"
        }
      ]
    },
    {
      "cell_type": "code",
      "metadata": {
        "id": "46ws0zty6BE2",
        "colab_type": "code",
        "colab": {}
      },
      "source": [
        "import PIL\n",
        "from PIL import Image\n",
        "import nibabel as nib\n",
        "from matplotlib import image"
      ],
      "execution_count": 0,
      "outputs": []
    },
    {
      "cell_type": "code",
      "metadata": {
        "id": "R044flB8CAhh",
        "colab_type": "code",
        "colab": {}
      },
      "source": [
        "im = Image.open('drive/My Drive/h_segmentation/train_image/images/la_003image1.png')"
      ],
      "execution_count": 0,
      "outputs": []
    },
    {
      "cell_type": "code",
      "metadata": {
        "id": "N9AItUsRCkh1",
        "colab_type": "code",
        "outputId": "fd7d382f-90ae-45d9-c3d6-f1e4cf795d2e",
        "colab": {
          "base_uri": "https://localhost:8080/",
          "height": 163
        }
      },
      "source": [
        "a = im.get_fdata()"
      ],
      "execution_count": 0,
      "outputs": [
        {
          "output_type": "error",
          "ename": "AttributeError",
          "evalue": "ignored",
          "traceback": [
            "\u001b[0;31m---------------------------------------------------------------------------\u001b[0m",
            "\u001b[0;31mAttributeError\u001b[0m                            Traceback (most recent call last)",
            "\u001b[0;32m<ipython-input-91-28ff3c9c1ca9>\u001b[0m in \u001b[0;36m<module>\u001b[0;34m()\u001b[0m\n\u001b[0;32m----> 1\u001b[0;31m \u001b[0ma\u001b[0m \u001b[0;34m=\u001b[0m \u001b[0mim\u001b[0m\u001b[0;34m.\u001b[0m\u001b[0mget_fdata\u001b[0m\u001b[0;34m(\u001b[0m\u001b[0;34m)\u001b[0m\u001b[0;34m\u001b[0m\u001b[0;34m\u001b[0m\u001b[0m\n\u001b[0m",
            "\u001b[0;31mAttributeError\u001b[0m: 'PngImageFile' object has no attribute 'get_fdata'"
          ]
        }
      ]
    },
    {
      "cell_type": "code",
      "metadata": {
        "id": "DLhBB3OzCmHG",
        "colab_type": "code",
        "outputId": "a7611c91-bb58-4be2-e1fd-7208921dfc2f",
        "colab": {
          "base_uri": "https://localhost:8080/",
          "height": 34
        }
      },
      "source": [
        "np.array(im.getchannel(0)).shape"
      ],
      "execution_count": 0,
      "outputs": [
        {
          "output_type": "execute_result",
          "data": {
            "text/plain": [
              "(320, 320)"
            ]
          },
          "metadata": {
            "tags": []
          },
          "execution_count": 79
        }
      ]
    },
    {
      "cell_type": "code",
      "metadata": {
        "id": "CG2Sat2rDINW",
        "colab_type": "code",
        "colab": {}
      },
      "source": [
        "data = np.asarray(im)"
      ],
      "execution_count": 0,
      "outputs": []
    },
    {
      "cell_type": "code",
      "metadata": {
        "id": "XQvzAsvfFhJd",
        "colab_type": "code",
        "outputId": "3f6e205f-f498-4eb2-cfbf-af8596825138",
        "colab": {
          "base_uri": "https://localhost:8080/",
          "height": 850
        }
      },
      "source": [
        "print(data.reshape(320,320,1))"
      ],
      "execution_count": 0,
      "outputs": [
        {
          "output_type": "stream",
          "text": [
            "[[[0]\n",
            "  [0]\n",
            "  [0]\n",
            "  ...\n",
            "  [0]\n",
            "  [0]\n",
            "  [0]]\n",
            "\n",
            " [[0]\n",
            "  [0]\n",
            "  [0]\n",
            "  ...\n",
            "  [0]\n",
            "  [0]\n",
            "  [0]]\n",
            "\n",
            " [[0]\n",
            "  [0]\n",
            "  [0]\n",
            "  ...\n",
            "  [0]\n",
            "  [0]\n",
            "  [0]]\n",
            "\n",
            " ...\n",
            "\n",
            " [[0]\n",
            "  [0]\n",
            "  [0]\n",
            "  ...\n",
            "  [0]\n",
            "  [0]\n",
            "  [0]]\n",
            "\n",
            " [[0]\n",
            "  [0]\n",
            "  [0]\n",
            "  ...\n",
            "  [0]\n",
            "  [0]\n",
            "  [0]]\n",
            "\n",
            " [[0]\n",
            "  [0]\n",
            "  [0]\n",
            "  ...\n",
            "  [0]\n",
            "  [0]\n",
            "  [0]]]\n"
          ],
          "name": "stdout"
        }
      ]
    },
    {
      "cell_type": "code",
      "metadata": {
        "id": "bqUlPT7_GcfR",
        "colab_type": "code",
        "colab": {}
      },
      "source": [
        ""
      ],
      "execution_count": 0,
      "outputs": []
    }
  ]
}